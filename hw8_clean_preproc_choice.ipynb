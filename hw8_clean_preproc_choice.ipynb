{
 "cells": [
  {
   "cell_type": "markdown",
   "metadata": {
    "colab_type": "text",
    "id": "Rm0hokW1ctGm"
   },
   "source": [
    "## Домашнее задание 8 (бонусное). Обработка текстов. \n",
    "Дедлайн: 24.06.2020 23:59"
   ]
  },
  {
   "cell_type": "markdown",
   "metadata": {
    "colab_type": "text",
    "id": "UbzklKqIVf-h"
   },
   "source": [
    "Ваша задача - определить тональность твита (0 - отрицательная, 4 - положительная) по его тексту.       \n",
    "Ваша модель должна превзойти указанные бейзлайны (метрика качества - ***accuracy_score***) на тестовой выборке (***df_test***).     \n",
    "Чем больше бейзлайнов вы пройдете, тем выше будет ваша оценка.       \n",
    "Использовать можно любые модели и любые способы получения признаков. \n",
    "\n",
    "+ **!** Необходимо сделать результаты воспроизводимыми (фиксировать random_state)\n",
    "+ **!** Для обучения можно использовать только ***df_train***. \n",
    "+ **!** Менять разбиение на  ***df_train*** и ***df_test*** нельзя.\n",
    "\n",
    "**Оценивание (всего 10 баллов)**: \n",
    "+ Бейзлайн 1 0.73875 - 4 балла\n",
    "+ Бейзлайн 2 0.75325 - 6 баллов\n",
    "+ Бейзлайн 3 0.7635 - 8 баллов \n",
    "+ Бейзлайн 4 0.777 - 10 баллов\n",
    "\n",
    "**Возможные направления улучшения качества**\n",
    "+ улучшение предобработки (сейчас ее по сути нет)\n",
    "+ подбор более удачной модели\n",
    "+ подбор параметров модели \n",
    "+ feature engineering\n",
    "+ feature selection"
   ]
  },
  {
   "cell_type": "code",
   "execution_count": 4,
   "metadata": {
    "colab": {},
    "colab_type": "code",
    "id": "2KrLxz-wZcmp"
   },
   "outputs": [],
   "source": [
    "import numpy as np\n",
    "import pandas as pd\n",
    "from sklearn.model_selection import train_test_split\n",
    "from sklearn.metrics import f1_score, classification_report, accuracy_score"
   ]
  },
  {
   "cell_type": "code",
   "execution_count": 5,
   "metadata": {},
   "outputs": [],
   "source": [
    "from sklearn.feature_extraction.text import CountVectorizer, TfidfVectorizer\n",
    "from sklearn.linear_model import LogisticRegression\n",
    "from sklearn.naive_bayes import MultinomialNB"
   ]
  },
  {
   "cell_type": "code",
   "execution_count": 6,
   "metadata": {},
   "outputs": [],
   "source": [
    "from scipy.sparse import coo_matrix, hstack\n",
    "from scipy.sparse.csr import csr_matrix"
   ]
  },
  {
   "cell_type": "code",
   "execution_count": 7,
   "metadata": {},
   "outputs": [],
   "source": [
    "import io"
   ]
  },
  {
   "cell_type": "code",
   "execution_count": 8,
   "metadata": {},
   "outputs": [],
   "source": [
    "df = pd.read_csv('https://raw.githubusercontent.com/esolovev/ling2019/master/module2/twi_data.csv', sep=';')"
   ]
  },
  {
   "cell_type": "code",
   "execution_count": 9,
   "metadata": {
    "scrolled": true
   },
   "outputs": [
    {
     "data": {
      "text/html": [
       "<div>\n",
       "<style scoped>\n",
       "    .dataframe tbody tr th:only-of-type {\n",
       "        vertical-align: middle;\n",
       "    }\n",
       "\n",
       "    .dataframe tbody tr th {\n",
       "        vertical-align: top;\n",
       "    }\n",
       "\n",
       "    .dataframe thead th {\n",
       "        text-align: right;\n",
       "    }\n",
       "</style>\n",
       "<table border=\"1\" class=\"dataframe\">\n",
       "  <thead>\n",
       "    <tr style=\"text-align: right;\">\n",
       "      <th></th>\n",
       "      <th>target</th>\n",
       "      <th>date</th>\n",
       "      <th>text</th>\n",
       "    </tr>\n",
       "  </thead>\n",
       "  <tbody>\n",
       "    <tr>\n",
       "      <th>0</th>\n",
       "      <td>4</td>\n",
       "      <td>Tue Jun 02 02:59:24 PDT 2009</td>\n",
       "      <td>@JackAllTimeLow hope it went good! i couldnt m...</td>\n",
       "    </tr>\n",
       "    <tr>\n",
       "      <th>1</th>\n",
       "      <td>0</td>\n",
       "      <td>Sat Jun 06 00:25:20 PDT 2009</td>\n",
       "      <td>@SDI8732 Idk how to do it!!!</td>\n",
       "    </tr>\n",
       "    <tr>\n",
       "      <th>2</th>\n",
       "      <td>0</td>\n",
       "      <td>Fri Jun 05 12:07:23 PDT 2009</td>\n",
       "      <td>@kmwindmill is here ! woop woop , would be bet...</td>\n",
       "    </tr>\n",
       "    <tr>\n",
       "      <th>3</th>\n",
       "      <td>4</td>\n",
       "      <td>Mon Jun 01 14:55:06 PDT 2009</td>\n",
       "      <td>@Daydreamer1984 He explains the tailer better</td>\n",
       "    </tr>\n",
       "    <tr>\n",
       "      <th>4</th>\n",
       "      <td>0</td>\n",
       "      <td>Sat Jun 20 15:39:44 PDT 2009</td>\n",
       "      <td>still trying to get a pic on this twitter thin...</td>\n",
       "    </tr>\n",
       "    <tr>\n",
       "      <th>5</th>\n",
       "      <td>0</td>\n",
       "      <td>Mon Jun 01 17:05:44 PDT 2009</td>\n",
       "      <td>personally, i'm pretty upset ian left the cab....</td>\n",
       "    </tr>\n",
       "    <tr>\n",
       "      <th>6</th>\n",
       "      <td>4</td>\n",
       "      <td>Fri May 29 15:32:09 PDT 2009</td>\n",
       "      <td>Dance meeting sitting next to deb</td>\n",
       "    </tr>\n",
       "    <tr>\n",
       "      <th>7</th>\n",
       "      <td>4</td>\n",
       "      <td>Sun May 31 08:07:19 PDT 2009</td>\n",
       "      <td>@thespyglass ha... funnier the way you did it...</td>\n",
       "    </tr>\n",
       "    <tr>\n",
       "      <th>8</th>\n",
       "      <td>4</td>\n",
       "      <td>Mon Jun 01 18:12:27 PDT 2009</td>\n",
       "      <td>wooh, i love @mileycyruss! i actuallly just sa...</td>\n",
       "    </tr>\n",
       "    <tr>\n",
       "      <th>9</th>\n",
       "      <td>4</td>\n",
       "      <td>Sat May 30 09:17:18 PDT 2009</td>\n",
       "      <td>@EdinMarathonBot R-4_it is great  I'm staying ...</td>\n",
       "    </tr>\n",
       "  </tbody>\n",
       "</table>\n",
       "</div>"
      ],
      "text/plain": [
       "   target                          date  \\\n",
       "0       4  Tue Jun 02 02:59:24 PDT 2009   \n",
       "1       0  Sat Jun 06 00:25:20 PDT 2009   \n",
       "2       0  Fri Jun 05 12:07:23 PDT 2009   \n",
       "3       4  Mon Jun 01 14:55:06 PDT 2009   \n",
       "4       0  Sat Jun 20 15:39:44 PDT 2009   \n",
       "5       0  Mon Jun 01 17:05:44 PDT 2009   \n",
       "6       4  Fri May 29 15:32:09 PDT 2009   \n",
       "7       4  Sun May 31 08:07:19 PDT 2009   \n",
       "8       4  Mon Jun 01 18:12:27 PDT 2009   \n",
       "9       4  Sat May 30 09:17:18 PDT 2009   \n",
       "\n",
       "                                                text  \n",
       "0  @JackAllTimeLow hope it went good! i couldnt m...  \n",
       "1                      @SDI8732 Idk how to do it!!!   \n",
       "2  @kmwindmill is here ! woop woop , would be bet...  \n",
       "3     @Daydreamer1984 He explains the tailer better   \n",
       "4  still trying to get a pic on this twitter thin...  \n",
       "5  personally, i'm pretty upset ian left the cab....  \n",
       "6                 Dance meeting sitting next to deb   \n",
       "7  @thespyglass ha... funnier the way you did it...   \n",
       "8  wooh, i love @mileycyruss! i actuallly just sa...  \n",
       "9  @EdinMarathonBot R-4_it is great  I'm staying ...  "
      ]
     },
     "execution_count": 9,
     "metadata": {},
     "output_type": "execute_result"
    }
   ],
   "source": [
    "df.head(10)"
   ]
  },
  {
   "cell_type": "code",
   "execution_count": 10,
   "metadata": {},
   "outputs": [
    {
     "data": {
      "text/plain": [
       "4    0.5\n",
       "0    0.5\n",
       "Name: target, dtype: float64"
      ]
     },
     "execution_count": 10,
     "metadata": {},
     "output_type": "execute_result"
    }
   ],
   "source": [
    "# баланс классов\n",
    "df.target.value_counts(normalize=True)"
   ]
  },
  {
   "cell_type": "code",
   "execution_count": 11,
   "metadata": {},
   "outputs": [],
   "source": [
    "# разбиение и пропорции обучающей и тестовой выборки менять нельзя\n",
    "SEED = 227\n",
    "np.random.seed(SEED)\n",
    "df_train, df_test = train_test_split(df, train_size=0.2, test_size=0.1, stratify=df.target, random_state=SEED)"
   ]
  },
  {
   "cell_type": "code",
   "execution_count": 12,
   "metadata": {},
   "outputs": [
    {
     "data": {
      "text/plain": [
       "(8000, 3)"
      ]
     },
     "execution_count": 12,
     "metadata": {},
     "output_type": "execute_result"
    }
   ],
   "source": [
    "df_train.shape"
   ]
  },
  {
   "cell_type": "code",
   "execution_count": 13,
   "metadata": {},
   "outputs": [
    {
     "data": {
      "text/plain": [
       "(4000, 3)"
      ]
     },
     "execution_count": 13,
     "metadata": {},
     "output_type": "execute_result"
    }
   ],
   "source": [
    "df_test.shape"
   ]
  },
  {
   "cell_type": "code",
   "execution_count": 14,
   "metadata": {},
   "outputs": [],
   "source": [
    "y_train = df_train.target\n",
    "y_test = df_test.target"
   ]
  },
  {
   "cell_type": "markdown",
   "metadata": {},
   "source": [
    "## Baseline 1 \n",
    "Count Vectorizer по словам + Naive Bayes"
   ]
  },
  {
   "cell_type": "code",
   "execution_count": 151,
   "metadata": {},
   "outputs": [
    {
     "name": "stdout",
     "output_type": "stream",
     "text": [
      "CPU times: user 224 ms, sys: 15.3 ms, total: 239 ms\n",
      "Wall time: 246 ms\n"
     ]
    }
   ],
   "source": [
    "%%time\n",
    "count_vectorizer = CountVectorizer()\n",
    "X_train_count = count_vectorizer.fit_transform(df_train.text)\n",
    "X_test_count = count_vectorizer.transform(df_test.text)\n",
    "X_train = X_train_count\n",
    "X_test = X_test_count"
   ]
  },
  {
   "cell_type": "code",
   "execution_count": 13,
   "metadata": {
    "scrolled": true
   },
   "outputs": [
    {
     "name": "stdout",
     "output_type": "stream",
     "text": [
      "CPU times: user 5.08 ms, sys: 0 ns, total: 5.08 ms\n",
      "Wall time: 23.4 ms\n"
     ]
    },
    {
     "data": {
      "text/plain": [
       "MultinomialNB(alpha=1.0, class_prior=None, fit_prior=True)"
      ]
     },
     "execution_count": 13,
     "metadata": {},
     "output_type": "execute_result"
    }
   ],
   "source": [
    "%%time\n",
    "model = MultinomialNB()\n",
    "model.fit(X_train, y_train)"
   ]
  },
  {
   "cell_type": "code",
   "execution_count": 14,
   "metadata": {
    "scrolled": false
   },
   "outputs": [
    {
     "name": "stdout",
     "output_type": "stream",
     "text": [
      "              precision    recall  f1-score   support\n",
      "\n",
      "           0       0.71      0.82      0.76      2000\n",
      "           4       0.78      0.66      0.72      2000\n",
      "\n",
      "    accuracy                           0.74      4000\n",
      "   macro avg       0.74      0.74      0.74      4000\n",
      "weighted avg       0.74      0.74      0.74      4000\n",
      "\n",
      "Accuracy: 0.73875\n"
     ]
    }
   ],
   "source": [
    "y_pred = model.predict(X_test)\n",
    "print(classification_report(y_test, y_pred))\n",
    "print(f'Accuracy: {accuracy_score(y_pred, y_test)}')"
   ]
  },
  {
   "cell_type": "markdown",
   "metadata": {},
   "source": [
    "## Baseline 2 \n",
    "TfidfVectorizer по словам + Logistic Regression"
   ]
  },
  {
   "cell_type": "code",
   "execution_count": 161,
   "metadata": {
    "scrolled": false
   },
   "outputs": [
    {
     "name": "stdout",
     "output_type": "stream",
     "text": [
      "CPU times: user 244 ms, sys: 18.9 ms, total: 263 ms\n",
      "Wall time: 276 ms\n"
     ]
    }
   ],
   "source": [
    "%%time\n",
    "tfidf_vectorizer = TfidfVectorizer()\n",
    "X_train_tfidf = tfidf_vectorizer.fit_transform(df_train.text)\n",
    "X_test_tfidf = tfidf_vectorizer.transform(df_test.text)\n",
    "X_train = X_train_tfidf\n",
    "X_test = X_test_tfidf"
   ]
  },
  {
   "cell_type": "code",
   "execution_count": 16,
   "metadata": {
    "scrolled": false
   },
   "outputs": [
    {
     "name": "stdout",
     "output_type": "stream",
     "text": [
      "CPU times: user 154 ms, sys: 0 ns, total: 154 ms\n",
      "Wall time: 42 ms\n"
     ]
    },
    {
     "data": {
      "text/plain": [
       "LogisticRegression(C=1.0, class_weight=None, dual=False, fit_intercept=True,\n",
       "                   intercept_scaling=1, l1_ratio=None, max_iter=100,\n",
       "                   multi_class='warn', n_jobs=None, penalty='l2',\n",
       "                   random_state=227, solver='liblinear', tol=0.0001, verbose=0,\n",
       "                   warm_start=False)"
      ]
     },
     "execution_count": 16,
     "metadata": {},
     "output_type": "execute_result"
    }
   ],
   "source": [
    "%%time\n",
    "model = LogisticRegression(random_state=SEED, solver='liblinear')\n",
    "model.fit(X_train, y_train)"
   ]
  },
  {
   "cell_type": "code",
   "execution_count": 17,
   "metadata": {
    "scrolled": true
   },
   "outputs": [
    {
     "name": "stdout",
     "output_type": "stream",
     "text": [
      "              precision    recall  f1-score   support\n",
      "\n",
      "           0       0.75      0.76      0.76      2000\n",
      "           4       0.76      0.74      0.75      2000\n",
      "\n",
      "    accuracy                           0.75      4000\n",
      "   macro avg       0.75      0.75      0.75      4000\n",
      "weighted avg       0.75      0.75      0.75      4000\n",
      "\n",
      "Accuracy: 0.75325\n"
     ]
    }
   ],
   "source": [
    "y_pred = model.predict(X_test)\n",
    "print(classification_report(y_test, y_pred))\n",
    "print(f'Accuracy: {accuracy_score(y_pred, y_test)}')"
   ]
  },
  {
   "cell_type": "markdown",
   "metadata": {},
   "source": [
    "## Baseline 3\n",
    "TfidfVectorizer по 1-3 граммам слов + TfidfVectorizer по 3-4граммам символов + LogisticRegression"
   ]
  },
  {
   "cell_type": "code",
   "execution_count": 21,
   "metadata": {},
   "outputs": [
    {
     "name": "stdout",
     "output_type": "stream",
     "text": [
      "CPU times: user 3.64 s, sys: 112 ms, total: 3.75 s\n",
      "Wall time: 3.81 s\n"
     ]
    }
   ],
   "source": [
    "%%time\n",
    "tfidf_vectorizer = TfidfVectorizer(ngram_range=(1, 4), strip_accents=\"unicode\", tokenizer=tknzr.tokenize, stop_words='english')\n",
    "X_train_tfidf = tfidf_vectorizer.fit_transform(df_train.text)\n",
    "X_test_tfidf = tfidf_vectorizer.transform(df_test.text)\n",
    "\n",
    "tfidf_vectorizer_char = TfidfVectorizer(ngram_range=(3, 4), analyzer='char')\n",
    "X_train_tfidf_char = tfidf_vectorizer_char.fit_transform(df_train.text)\n",
    "X_test_tfidf_char = tfidf_vectorizer_char.transform(df_test.text)\n",
    "\n",
    "X_train = hstack((X_train_tfidf, X_train_tfidf_char))\n",
    "X_test = hstack((X_test_tfidf, X_test_tfidf_char))"
   ]
  },
  {
   "cell_type": "markdown",
   "metadata": {},
   "source": [
    "# Благодаря удалению стоп слов, убиранию ' и использованию sentiment-aware nltk twitter токенизатора удалось побить 3 бейзлайн"
   ]
  },
  {
   "cell_type": "code",
   "execution_count": 22,
   "metadata": {},
   "outputs": [
    {
     "name": "stdout",
     "output_type": "stream",
     "text": [
      "CPU times: user 448 ms, sys: 23.5 ms, total: 472 ms\n",
      "Wall time: 482 ms\n"
     ]
    }
   ],
   "source": [
    "%%time\n",
    "model = LogisticRegression(random_state=SEED, solver='liblinear')\n",
    "model.fit(X_train, y_train)"
   ]
  },
  {
   "cell_type": "code",
   "execution_count": 23,
   "metadata": {},
   "outputs": [
    {
     "name": "stdout",
     "output_type": "stream",
     "text": [
      "              precision    recall  f1-score   support\n",
      "\n",
      "           0       0.77      0.76      0.76      2000\n",
      "           4       0.76      0.77      0.77      2000\n",
      "\n",
      "    accuracy                           0.77      4000\n",
      "   macro avg       0.77      0.77      0.77      4000\n",
      "weighted avg       0.77      0.77      0.77      4000\n",
      "\n",
      "Accuracy: 0.7665\n"
     ]
    }
   ],
   "source": [
    "y_pred = model.predict(X_test)\n",
    "print(classification_report(y_test, y_pred))\n",
    "print(f'Accuracy: {accuracy_score(y_pred, y_test)}')"
   ]
  },
  {
   "cell_type": "markdown",
   "metadata": {},
   "source": [
    "## Baseline 4\n",
    "Baseline 3 + эмбединги из spacy (вектор документа = среднее векторов всех его слов)"
   ]
  },
  {
   "cell_type": "code",
   "execution_count": 24,
   "metadata": {
    "scrolled": false
   },
   "outputs": [
    {
     "name": "stdout",
     "output_type": "stream",
     "text": [
      "CPU times: user 8.76 s, sys: 1.43 s, total: 10.2 s\n",
      "Wall time: 10.9 s\n"
     ]
    }
   ],
   "source": [
    "%%time\n",
    "import spacy \n",
    "import en_core_web_lg\n",
    "nlp = spacy.load('en_core_web_lg')"
   ]
  },
  {
   "cell_type": "code",
   "execution_count": 25,
   "metadata": {},
   "outputs": [
    {
     "name": "stdout",
     "output_type": "stream",
     "text": [
      "CPU times: user 2min 8s, sys: 1.46 s, total: 2min 9s\n",
      "Wall time: 2min 11s\n"
     ]
    }
   ],
   "source": [
    "%%time\n",
    "X_train_vectors = csr_matrix([nlp(twi_text).vector for twi_text in df_train.text])\n",
    "X_test_vectors = csr_matrix([nlp(twi_text).vector for twi_text in df_test.text])\n",
    "X_train = hstack((X_train_tfidf, X_train_tfidf_char, X_train_vectors))\n",
    "X_test = hstack((X_test_tfidf, X_test_tfidf_char, X_test_vectors))"
   ]
  },
  {
   "cell_type": "code",
   "execution_count": 26,
   "metadata": {},
   "outputs": [
    {
     "name": "stdout",
     "output_type": "stream",
     "text": [
      "CPU times: user 2.25 s, sys: 55.3 ms, total: 2.3 s\n",
      "Wall time: 2.31 s\n"
     ]
    }
   ],
   "source": [
    "%%time\n",
    "model = LogisticRegression(random_state=SEED, solver='liblinear')\n",
    "model.fit(X_train, y_train)"
   ]
  },
  {
   "cell_type": "markdown",
   "metadata": {},
   "source": [
    "# и 4 бейзлайн тоже :)"
   ]
  },
  {
   "cell_type": "code",
   "execution_count": 27,
   "metadata": {},
   "outputs": [
    {
     "name": "stdout",
     "output_type": "stream",
     "text": [
      "              precision    recall  f1-score   support\n",
      "\n",
      "           0       0.77      0.80      0.79      2000\n",
      "           4       0.79      0.77      0.78      2000\n",
      "\n",
      "    accuracy                           0.78      4000\n",
      "   macro avg       0.78      0.78      0.78      4000\n",
      "weighted avg       0.78      0.78      0.78      4000\n",
      "\n",
      "Accuracy: 0.7835\n"
     ]
    }
   ],
   "source": [
    "y_pred = model.predict(X_test)\n",
    "print(classification_report(y_test, y_pred))\n",
    "print(f'Accuracy: {accuracy_score(y_pred, y_test)}')"
   ]
  },
  {
   "cell_type": "markdown",
   "metadata": {},
   "source": [
    "### Препроцессинг "
   ]
  },
  {
   "cell_type": "markdown",
   "metadata": {},
   "source": [
    "#### я написала огрумную функцию препроцессинга, которая давала 60 комбинаций параметров и провела все комбинации на первых трёх моделях чтобы найти лучшее сочетание\n",
    "\n",
    "\n",
    "##### вот такие парметры и их варианты:\n",
    "1) @хэндлы:\n",
    "- убирать все\n",
    "- убирать непопулярные\n",
    "- приводить неполярные к виду @handle\n",
    "- приводить все к виду @handle\n",
    "- оставлять все\n",
    "\n",
    "2) конечная пунктуация:\n",
    "- оставлять разную (!?.)\n",
    "- делать всё точками\n",
    "\n",
    "3) смайлы\n",
    "- оставлять как есть\n",
    "- убирать все\n",
    "- приводить к :) или :(\n",
    "\n",
    "4) маркирование области отрицания\n",
    "- маркировать\n",
    "- не маркировать\n"
   ]
  },
  {
   "cell_type": "markdown",
   "metadata": {},
   "source": [
    "### помогло ли это?"
   ]
  },
  {
   "cell_type": "markdown",
   "metadata": {},
   "source": [
    "# NO"
   ]
  },
  {
   "cell_type": "markdown",
   "metadata": {},
   "source": [
    "![Drag Racing](ohno.png)"
   ]
  },
  {
   "cell_type": "markdown",
   "metadata": {},
   "source": [
    "#### но ниже можно посмотреть как это было"
   ]
  },
  {
   "cell_type": "code",
   "execution_count": 16,
   "metadata": {},
   "outputs": [],
   "source": [
    "import re\n",
    "import nltk\n",
    "from nltk.tokenize import TweetTokenizer\n",
    "from collections import Counter\n",
    "tknzr = TweetTokenizer(strip_handles=False, reduce_len=True)"
   ]
  },
  {
   "cell_type": "code",
   "execution_count": 26,
   "metadata": {},
   "outputs": [],
   "source": [
    "negations = ['never', 'no', 'not', 'noone', 'nowhere', 'none', 'nobody', 'neither', 'seldom', 'hardly', \"n't\", \"cannot\"]\n",
    "\n"
   ]
  },
  {
   "cell_type": "code",
   "execution_count": 27,
   "metadata": {},
   "outputs": [],
   "source": [
    "with open('handles.txt', 'r', encoding='utf-8') as f:\n",
    "    raw = f.read()\n",
    "    pop_handles = raw.split('\\n')\n",
    "    "
   ]
  },
  {
   "cell_type": "code",
   "execution_count": 28,
   "metadata": {},
   "outputs": [],
   "source": [
    "stopwords = ['i', 'me', 'my', 'myself', 'we', 'our', 'ours', 'ourselves', 'you', \"you're\", \"you've\", \"you'll\", \"you'd\", 'your', 'yours', 'yourself', 'yourselves', 'he', 'him', 'his', 'himself', 'she', \"she's\", 'her', 'hers', 'herself', 'it', \"it's\", 'its', 'itself', 'they', 'them', 'their', 'theirs', 'themselves', 'what', 'which', 'who', 'whom', 'this', 'that', \"that'll\", 'these', 'those', 'am', 'is', 'are', 'was', 'were', 'be', 'been', 'being', 'have', 'has', 'had', 'having', 'do', 'does', 'did', 'doing', 'a', 'an', 'the', 'and', 'but', 'if', 'or', 'because', 'as', 'until', 'while', 'of', 'at', 'by', 'for', 'with', 'about', 'against', 'between', 'into', 'through', 'during', 'before', 'after', 'above', 'below', 'to', 'from', 'up', 'down', 'in', 'out', 'on', 'off', 'over', 'under', 'again', 'further', 'then', 'once', 'here', 'there', 'when', 'where', 'why', 'how', 'all', 'any', 'both', 'each', 'few', 'more', 'most', 'other', 'some', 'such', 'only', 'own', 'same', 'so', 'than', 'too', 'very', 's', 't', 'can', 'will', 'just', 'don', \"don't\", 'should', \"should've\", 'now', 'd', 'll', 'm', 'o', 're', 've', 'y', 'ain', 'aren', \"aren't\", 'couldn', \"couldn't\", 'didn', \"didn't\", 'doesn', \"doesn't\", 'hadn', \"hadn't\", 'hasn', \"hasn't\", 'haven', \"haven't\", 'isn', \"isn't\", 'ma', 'mightn', \"mightn't\", 'mustn', \"mustn't\", 'needn', \"needn't\", 'shan', \"shan't\", 'shouldn', \"shouldn't\", 'wasn', \"wasn't\", 'weren', \"weren't\", 'won', \"won't\", 'wouldn', \"wouldn't\"]"
   ]
  },
  {
   "cell_type": "code",
   "execution_count": 115,
   "metadata": {},
   "outputs": [],
   "source": [
    "smiles_collection = {\n",
    "    'positive': [\":p\", \"(:\", \";-)\",\"=D\",\":]\",\":-D\",\"=P\",\";D\",\";p\",\";]\",\";P\",\"=p\",\"=]\",\":-p\",\":')\",\";-D\", \":)\"],\n",
    "    'negative': [':|',\":'(\", '=/', '=(',':-\\\\', '/:', '>:[', \"='(\", ':[', '):', \":(\"]\n",
    "}\n",
    "all_smiles = [':)_NEG', ':)', ':(_NEG', ':(']"
   ]
  },
  {
   "cell_type": "code",
   "execution_count": 132,
   "metadata": {},
   "outputs": [],
   "source": [
    "# с аргументами, чтобы попробовать разные комбинации\n",
    "def preprocessing(tweet, handles, smiles, neg_marked, end_punkt, verbose):\n",
    "    # убирает частицы после апострофа, делит токен с отрицанием на token + not, убирает числа\n",
    "    tweet = tweet.lower()\n",
    "    tweet = re.sub(\"(?:'s|'ll|'ve)\", '', tweet)\n",
    "    tweet = re.sub(\"n't\", ' not ', tweet)\n",
    "    tweet = re.sub(\"(do|does|did|could|can|should|must|shall|will|would|have|wo)nt\", 'not', tweet)\n",
    "    tweet = re.sub(\"[124567890]+\", '', tweet)\n",
    "    tweet = re.sub(\"idk\", 'not know', tweet)\n",
    "    \n",
    "    def end_punkt(tweet, end_punkt):\n",
    "        if end_punkt:\n",
    "            tweet = re.sub(\"[^?A-Za-z]!\", \"!. \", tweet)\n",
    "            tweet = re.sub(\"\\?!\", \"?. \", tweet)\n",
    "            tweet = re.sub(\"\\?\", \"?. \", tweet)\n",
    "        else:\n",
    "            tweet = re.sub(\"[!?]+\", '. ', tweet)\n",
    "\n",
    "        sentences = tweet.split('. ')\n",
    "        return sentences\n",
    "            \n",
    "        \n",
    "    def handles_format(sentences, handles):\n",
    "        preproc = []\n",
    "        for sentence in sentences:\n",
    "            tokens = tknzr.tokenize(sentence.lower())\n",
    "            if handles == 'delete_all':\n",
    "                for token in tokens:\n",
    "                    if ('@'not in token):\n",
    "                        preproc.append(token)\n",
    "            if handles == 'delete_unpopular':\n",
    "                for token in tokens:\n",
    "                    if ('@' in token) and (token in pop_handles):\n",
    "                        preproc.append(token)\n",
    "                    if '@' not in token:\n",
    "                        preproc.append(token)\n",
    "            if handles == 'reformat_unpopular':\n",
    "                for token in tokens:\n",
    "                    if ('@' in token) and (token in pop_handles):\n",
    "                        preproc.append(token)\n",
    "                    if ('@' in token) and (token not in pop_handles):\n",
    "                        preproc.append('@handle')\n",
    "                    else:\n",
    "                        preproc.append(token)\n",
    "            if handles == 'leave_all':\n",
    "                preproc.extend(tokens)\n",
    "            if handles == 'reformat_all':\n",
    "                for token in tokens:\n",
    "                    if ('@' in token):\n",
    "                        preproc.append('@handle')\n",
    "                    else:\n",
    "                        preproc.append(token)\n",
    "        return preproc\n",
    "    \n",
    "    \n",
    "    def stop_words(preproc):\n",
    "        no_stop_words = []\n",
    "        for token in preproc:\n",
    "            if token not in stopwords:\n",
    "                no_stop_words.append(token)\n",
    "        return no_stop_words\n",
    "    \n",
    "    \n",
    "    def neg_marked_format(preproc, neg_marked):\n",
    "        if neg_marked is True:\n",
    "            neg_marked = []\n",
    "            final = []\n",
    "            negated = len(list(set(preproc) & set(negations)))\n",
    "            condition = False\n",
    "            if negated:\n",
    "                for token in preproc:\n",
    "                    if token in negations:\n",
    "                        condition = True\n",
    "                    elif condition == True:\n",
    "                        neg_marked.append(token + '_NEG')\n",
    "                    elif re.match('[^A-Za-z]', token) and condition == True:\n",
    "                        condition = False\n",
    "                    elif condition == False:\n",
    "                        neg_marked.append(token)\n",
    "                final = neg_marked\n",
    "            else:\n",
    "                final = preproc\n",
    "        else:\n",
    "            final = preproc\n",
    "        return final\n",
    "    \n",
    "    def smiles_format(final, smiles):\n",
    "        full_proc_tweet = []\n",
    "        punkt = [',', ';', ':', '-']\n",
    "        if smiles == 'reformat':\n",
    "            for token in final:\n",
    "                if token in smiles_collection['positive']:\n",
    "                    full_proc_tweet.append(':)')\n",
    "                elif '_' in token and token.split('_')[0] in smiles_collection['positive']:\n",
    "                    full_proc_tweet.append(':)')\n",
    "                elif token in smiles_collection['negative']:\n",
    "                    full_proc_tweet.append(':(')\n",
    "                elif '_' in token and token.split('_')[0] in smiles_collection['negative']:\n",
    "                    full_proc_tweet.append(':(')\n",
    "                elif re.match('[^A-Za-z.!?<3_]', token):\n",
    "                    pass\n",
    "                else:\n",
    "                    full_proc_tweet.append(token)\n",
    "                    \n",
    "                \n",
    "        elif smiles == 'delete_all':\n",
    "            for token in final:\n",
    "                if re.match('[^A-Za-z.!?_]', token):\n",
    "                    pass\n",
    "                else:\n",
    "                    full_proc_tweet.append(token)\n",
    "                    \n",
    "        elif smiles == 'leave_all':\n",
    "            for token in final:\n",
    "                if token in punkt:\n",
    "                    pass\n",
    "                else:\n",
    "                    full_proc_tweet.append(token)\n",
    "                    \n",
    "        return full_proc_tweet\n",
    "    \n",
    "    def testing(verbose):\n",
    "        if verbose:\n",
    "            print('sent split', sentences)\n",
    "            print('token n hadnles', preproc)\n",
    "            print('stop words', no_stop_words)\n",
    "            print('neg_marked', final)\n",
    "    \n",
    "    sentences = end_punkt(tweet, end_punkt)\n",
    "    \n",
    "    preproc = handles_format(sentences, handles)\n",
    "    \n",
    "    no_stop_words = stop_words(preproc)\n",
    "    \n",
    "    final = neg_marked_format(no_stop_words, neg_marked)\n",
    "    \n",
    "    full_proc_tweet = smiles_format(final, smiles)\n",
    "    \n",
    "    testing(verbose)\n",
    "\n",
    "            \n",
    "    return full_proc_tweet"
   ]
  },
  {
   "cell_type": "markdown",
   "metadata": {},
   "source": [
    "### Эксперимент по подбору параментров"
   ]
  },
  {
   "cell_type": "code",
   "execution_count": 68,
   "metadata": {},
   "outputs": [],
   "source": [
    "handles_choice = ['delete_all', 'delete_unpopular', 'reformat_unpopular', 'leave_all', 'reformat_all']\n",
    "smiles_choice = ['leave_all', 'delete_all', 'reformat']\n",
    "neg_marked_choice = [True, False]\n",
    "end_punkt_choice = [True, False] #при True оставляет разные конечные знаки препинания\n",
    "verbose = False"
   ]
  },
  {
   "cell_type": "code",
   "execution_count": 138,
   "metadata": {},
   "outputs": [],
   "source": [
    "\n",
    "def new_data(for_proc, a, b, c, d):\n",
    "    x = for_proc.copy()\n",
    "    problem = []\n",
    "    for i, row in x.iterrows():\n",
    "        raw = (row['text'])\n",
    "        try:\n",
    "            preproc = preprocessing(raw, handles=a, smiles=b, neg_marked=c, end_punkt=d, verbose=False )\n",
    "            x.at[i,'text'] = \" \".join(preproc)\n",
    "        except Exception:\n",
    "            problem.append(raw)\n",
    "            preproc = raw\n",
    "            x.at[i,'text'] = (preproc)\n",
    "\n",
    "    \n",
    "    return [x, problem]\n",
    "\n",
    "def stats(preproc_data):\n",
    "    a = preproc_data.copy()\n",
    "    SEED = 227\n",
    "    np.random.seed(SEED)\n",
    "    df_train, df_test = train_test_split(a, train_size=0.2, test_size=0.1, stratify=df.target, random_state=SEED)\n",
    "    \n",
    "    y_train = df_train.target\n",
    "    y_test = df_test.target\n",
    "    \n",
    "    count_vectorizer = CountVectorizer(ngram_range=(1, 6))\n",
    "    X_train_count = count_vectorizer.fit_transform(df_train.text)\n",
    "\n",
    "    X_test_count = count_vectorizer.transform(df_test.text)\n",
    "    X_train = X_train_count\n",
    "    X_test = X_test_count\n",
    "    \n",
    "    model = MultinomialNB()\n",
    "    model.fit(X_train, y_train)\n",
    "    \n",
    "    y_pred = model.predict(X_test)\n",
    "    accuracy = accuracy_score(y_pred, y_test)\n",
    "    print(f'Accuracy: {accuracy}')\n",
    "    \n",
    "    return accuracy\n",
    "\n",
    "def stats2(preproc_data):\n",
    "    a = preproc_data.copy()\n",
    "    SEED = 227\n",
    "    np.random.seed(SEED)\n",
    "    df_train, df_test = train_test_split(a, train_size=0.2, test_size=0.1, stratify=df.target, random_state=SEED)\n",
    "    \n",
    "    y_train = df_train.target\n",
    "    y_test = df_test.target\n",
    "    \n",
    "    tfidf_vectorizer = TfidfVectorizer()\n",
    "    X_train_tfidf = tfidf_vectorizer.fit_transform(df_train.text)\n",
    "    X_test_tfidf = tfidf_vectorizer.transform(df_test.text)\n",
    "    X_train = X_train_tfidf\n",
    "    X_test = X_test_tfidf\n",
    "\n",
    "    model = LogisticRegression(random_state=SEED, solver='liblinear')\n",
    "    model.fit(X_train, y_train)\n",
    "    \n",
    "    y_pred = model.predict(X_test)\n",
    "    accuracy = accuracy_score(y_pred, y_test)\n",
    "    print(f'Accuracy: {accuracy}')\n",
    "    \n",
    "    return accuracy\n",
    "\n",
    "def stats3(preproc_data):\n",
    "    a = preproc_data.copy()\n",
    "    SEED = 227\n",
    "    np.random.seed(SEED)\n",
    "    df_train, df_test = train_test_split(a, train_size=0.2, test_size=0.1, stratify=df.target, random_state=SEED)\n",
    "    \n",
    "    y_train = df_train.target\n",
    "    y_test = df_test.target\n",
    "    \n",
    "    tfidf_vectorizer = TfidfVectorizer(ngram_range=(1, 4))\n",
    "    X_train_tfidf = tfidf_vectorizer.fit_transform(df_train.text)\n",
    "    X_test_tfidf = tfidf_vectorizer.transform(df_test.text)\n",
    "\n",
    "    tfidf_vectorizer_char = TfidfVectorizer(ngram_range=(3, 4), analyzer='char')\n",
    "    X_train_tfidf_char = tfidf_vectorizer_char.fit_transform(df_train.text)\n",
    "    X_test_tfidf_char = tfidf_vectorizer_char.transform(df_test.text)\n",
    "\n",
    "    X_train = hstack((X_train_tfidf, X_train_tfidf_char))\n",
    "    X_test = hstack((X_test_tfidf, X_test_tfidf_char))\n",
    "\n",
    "    model = LogisticRegression(random_state=SEED, solver='liblinear')\n",
    "    model.fit(X_train, y_train)\n",
    "    \n",
    "    y_pred = model.predict(X_test)\n",
    "    accuracy = accuracy_score(y_pred, y_test)\n",
    "    print(f'Accuracy: {accuracy}')\n",
    "    \n",
    "    return accuracy"
   ]
  },
  {
   "cell_type": "code",
   "execution_count": 120,
   "metadata": {},
   "outputs": [
    {
     "name": "stdout",
     "output_type": "stream",
     "text": [
      "['hope', 'went', 'goo', '!', 'make_NEG', 'think_NEG', 'hang_NEG', 'haha_NEG', 'enjoy_NEG', 'rest_NEG', 'ur_NEG', 'time_NEG', 'sydney_NEG', 'xx_NEG']\n"
     ]
    }
   ],
   "source": [
    "tweet = '@JackAllTimeLow hope it went good! i couldnt make it, so i think we should hang out  haha. enjoy the rest of ur time here in Sydney  xx'\n",
    "result = preprocessing(tweet, handles=\"delete_all\", smiles=\"reformat\", neg_marked= True, end_punkt=True, verbose = False)\n",
    "print(result)"
   ]
  },
  {
   "cell_type": "code",
   "execution_count": 133,
   "metadata": {},
   "outputs": [
    {
     "data": {
      "text/html": [
       "<div>\n",
       "<style scoped>\n",
       "    .dataframe tbody tr th:only-of-type {\n",
       "        vertical-align: middle;\n",
       "    }\n",
       "\n",
       "    .dataframe tbody tr th {\n",
       "        vertical-align: top;\n",
       "    }\n",
       "\n",
       "    .dataframe thead th {\n",
       "        text-align: right;\n",
       "    }\n",
       "</style>\n",
       "<table border=\"1\" class=\"dataframe\">\n",
       "  <thead>\n",
       "    <tr style=\"text-align: right;\">\n",
       "      <th></th>\n",
       "      <th>target</th>\n",
       "      <th>date</th>\n",
       "      <th>text</th>\n",
       "    </tr>\n",
       "  </thead>\n",
       "  <tbody>\n",
       "    <tr>\n",
       "      <th>0</th>\n",
       "      <td>4</td>\n",
       "      <td>Tue Jun 02 02:59:24 PDT 2009</td>\n",
       "      <td>@JackAllTimeLow hope it went good! i couldnt m...</td>\n",
       "    </tr>\n",
       "  </tbody>\n",
       "</table>\n",
       "</div>"
      ],
      "text/plain": [
       "   target                          date  \\\n",
       "0       4  Tue Jun 02 02:59:24 PDT 2009   \n",
       "\n",
       "                                                text  \n",
       "0  @JackAllTimeLow hope it went good! i couldnt m...  "
      ]
     },
     "execution_count": 133,
     "metadata": {},
     "output_type": "execute_result"
    }
   ],
   "source": [
    "df.head(1)"
   ]
  },
  {
   "cell_type": "code",
   "execution_count": 130,
   "metadata": {},
   "outputs": [],
   "source": [
    "tweet = for_proc.head(1).values[0]"
   ]
  },
  {
   "cell_type": "code",
   "execution_count": 134,
   "metadata": {},
   "outputs": [
    {
     "name": "stdout",
     "output_type": "stream",
     "text": [
      "0    hope went good ! make_NEG ,_NEG think_NEG hang...\n",
      "Name: text, dtype: object\n",
      "Accuracy: 0.725\n",
      "ACCURACY 0.725, handles_choice delete_all, smiles_choice leave_all, neg_marked_choice True, end_punkt_choice True\n",
      "0    hope went good ! make_NEG ,_NEG think_NEG hang...\n",
      "Name: text, dtype: object\n",
      "Accuracy: 0.725\n",
      "ACCURACY 0.725, handles_choice delete_all, smiles_choice leave_all, neg_marked_choice True, end_punkt_choice False\n",
      "0    hope went good ! not make think hang haha enjo...\n",
      "Name: text, dtype: object\n",
      "Accuracy: 0.73525\n",
      "ACCURACY 0.73525, handles_choice delete_all, smiles_choice leave_all, neg_marked_choice False, end_punkt_choice True\n",
      "0    hope went good ! not make think hang haha enjo...\n",
      "Name: text, dtype: object\n",
      "Accuracy: 0.73525\n",
      "ACCURACY 0.73525, handles_choice delete_all, smiles_choice leave_all, neg_marked_choice False, end_punkt_choice False\n",
      "0    hope went good ! make_NEG think_NEG hang_NEG h...\n",
      "Name: text, dtype: object\n",
      "Accuracy: 0.7265\n",
      "ACCURACY 0.7265, handles_choice delete_all, smiles_choice delete_all, neg_marked_choice True, end_punkt_choice True\n",
      "0    hope went good ! make_NEG think_NEG hang_NEG h...\n",
      "Name: text, dtype: object\n",
      "Accuracy: 0.7265\n",
      "ACCURACY 0.7265, handles_choice delete_all, smiles_choice delete_all, neg_marked_choice True, end_punkt_choice False\n",
      "0    hope went good ! not make think hang haha enjo...\n",
      "Name: text, dtype: object\n",
      "Accuracy: 0.73375\n",
      "ACCURACY 0.73375, handles_choice delete_all, smiles_choice delete_all, neg_marked_choice False, end_punkt_choice True\n",
      "0    hope went good ! not make think hang haha enjo...\n",
      "Name: text, dtype: object\n",
      "Accuracy: 0.73375\n",
      "ACCURACY 0.73375, handles_choice delete_all, smiles_choice delete_all, neg_marked_choice False, end_punkt_choice False\n",
      "0    hope went good ! make_NEG think_NEG hang_NEG h...\n",
      "Name: text, dtype: object\n",
      "Accuracy: 0.726\n",
      "ACCURACY 0.726, handles_choice delete_all, smiles_choice reformat, neg_marked_choice True, end_punkt_choice True\n",
      "0    hope went good ! make_NEG think_NEG hang_NEG h...\n",
      "Name: text, dtype: object\n",
      "Accuracy: 0.726\n",
      "ACCURACY 0.726, handles_choice delete_all, smiles_choice reformat, neg_marked_choice True, end_punkt_choice False\n",
      "0    hope went good ! not make think hang haha enjo...\n",
      "Name: text, dtype: object\n",
      "Accuracy: 0.73425\n",
      "ACCURACY 0.73425, handles_choice delete_all, smiles_choice reformat, neg_marked_choice False, end_punkt_choice True\n",
      "0    hope went good ! not make think hang haha enjo...\n",
      "Name: text, dtype: object\n",
      "Accuracy: 0.73425\n",
      "ACCURACY 0.73425, handles_choice delete_all, smiles_choice reformat, neg_marked_choice False, end_punkt_choice False\n",
      "0    hope went good ! make_NEG ,_NEG think_NEG hang...\n",
      "Name: text, dtype: object\n",
      "Accuracy: 0.72625\n",
      "ACCURACY 0.72625, handles_choice delete_unpopular, smiles_choice leave_all, neg_marked_choice True, end_punkt_choice True\n",
      "0    hope went good ! make_NEG ,_NEG think_NEG hang...\n",
      "Name: text, dtype: object\n",
      "Accuracy: 0.72625\n",
      "ACCURACY 0.72625, handles_choice delete_unpopular, smiles_choice leave_all, neg_marked_choice True, end_punkt_choice False\n",
      "0    hope went good ! not make think hang haha enjo...\n",
      "Name: text, dtype: object\n",
      "Accuracy: 0.73425\n",
      "ACCURACY 0.73425, handles_choice delete_unpopular, smiles_choice leave_all, neg_marked_choice False, end_punkt_choice True\n",
      "0    hope went good ! not make think hang haha enjo...\n",
      "Name: text, dtype: object\n",
      "Accuracy: 0.73425\n",
      "ACCURACY 0.73425, handles_choice delete_unpopular, smiles_choice leave_all, neg_marked_choice False, end_punkt_choice False\n",
      "0    hope went good ! make_NEG think_NEG hang_NEG h...\n",
      "Name: text, dtype: object\n",
      "Accuracy: 0.7265\n",
      "ACCURACY 0.7265, handles_choice delete_unpopular, smiles_choice delete_all, neg_marked_choice True, end_punkt_choice True\n",
      "0    hope went good ! make_NEG think_NEG hang_NEG h...\n",
      "Name: text, dtype: object\n",
      "Accuracy: 0.7265\n",
      "ACCURACY 0.7265, handles_choice delete_unpopular, smiles_choice delete_all, neg_marked_choice True, end_punkt_choice False\n",
      "0    hope went good ! not make think hang haha enjo...\n",
      "Name: text, dtype: object\n",
      "Accuracy: 0.73375\n",
      "ACCURACY 0.73375, handles_choice delete_unpopular, smiles_choice delete_all, neg_marked_choice False, end_punkt_choice True\n",
      "0    hope went good ! not make think hang haha enjo...\n",
      "Name: text, dtype: object\n",
      "Accuracy: 0.73375\n",
      "ACCURACY 0.73375, handles_choice delete_unpopular, smiles_choice delete_all, neg_marked_choice False, end_punkt_choice False\n",
      "0    hope went good ! make_NEG think_NEG hang_NEG h...\n",
      "Name: text, dtype: object\n",
      "Accuracy: 0.726\n",
      "ACCURACY 0.726, handles_choice delete_unpopular, smiles_choice reformat, neg_marked_choice True, end_punkt_choice True\n",
      "0    hope went good ! make_NEG think_NEG hang_NEG h...\n",
      "Name: text, dtype: object\n",
      "Accuracy: 0.726\n",
      "ACCURACY 0.726, handles_choice delete_unpopular, smiles_choice reformat, neg_marked_choice True, end_punkt_choice False\n",
      "0    hope went good ! not make think hang haha enjo...\n",
      "Name: text, dtype: object\n",
      "Accuracy: 0.73425\n",
      "ACCURACY 0.73425, handles_choice delete_unpopular, smiles_choice reformat, neg_marked_choice False, end_punkt_choice True\n",
      "0    hope went good ! not make think hang haha enjo...\n",
      "Name: text, dtype: object\n",
      "Accuracy: 0.73425\n",
      "ACCURACY 0.73425, handles_choice delete_unpopular, smiles_choice reformat, neg_marked_choice False, end_punkt_choice False\n",
      "0    @handle hope went good ! make_NEG ,_NEG think_...\n",
      "Name: text, dtype: object\n",
      "Accuracy: 0.72625\n",
      "ACCURACY 0.72625, handles_choice reformat_unpopular, smiles_choice leave_all, neg_marked_choice True, end_punkt_choice True\n",
      "0    @handle hope went good ! make_NEG ,_NEG think_...\n",
      "Name: text, dtype: object\n",
      "Accuracy: 0.72625\n",
      "ACCURACY 0.72625, handles_choice reformat_unpopular, smiles_choice leave_all, neg_marked_choice True, end_punkt_choice False\n",
      "0    @handle hope went good ! not make think hang h...\n",
      "Name: text, dtype: object\n",
      "Accuracy: 0.737\n",
      "ACCURACY 0.737, handles_choice reformat_unpopular, smiles_choice leave_all, neg_marked_choice False, end_punkt_choice True\n",
      "0    @handle hope went good ! not make think hang h...\n",
      "Name: text, dtype: object\n",
      "Accuracy: 0.737\n",
      "ACCURACY 0.737, handles_choice reformat_unpopular, smiles_choice leave_all, neg_marked_choice False, end_punkt_choice False\n",
      "0    hope went good ! make_NEG think_NEG hang_NEG h...\n",
      "Name: text, dtype: object\n",
      "Accuracy: 0.7265\n",
      "ACCURACY 0.7265, handles_choice reformat_unpopular, smiles_choice delete_all, neg_marked_choice True, end_punkt_choice True\n",
      "0    hope went good ! make_NEG think_NEG hang_NEG h...\n",
      "Name: text, dtype: object\n",
      "Accuracy: 0.7265\n",
      "ACCURACY 0.7265, handles_choice reformat_unpopular, smiles_choice delete_all, neg_marked_choice True, end_punkt_choice False\n",
      "0    hope went good ! not make think hang haha enjo...\n",
      "Name: text, dtype: object\n",
      "Accuracy: 0.73375\n",
      "ACCURACY 0.73375, handles_choice reformat_unpopular, smiles_choice delete_all, neg_marked_choice False, end_punkt_choice True\n",
      "0    hope went good ! not make think hang haha enjo...\n",
      "Name: text, dtype: object\n",
      "Accuracy: 0.73375\n",
      "ACCURACY 0.73375, handles_choice reformat_unpopular, smiles_choice delete_all, neg_marked_choice False, end_punkt_choice False\n",
      "0    hope went good ! make_NEG think_NEG hang_NEG h...\n",
      "Name: text, dtype: object\n",
      "Accuracy: 0.726\n",
      "ACCURACY 0.726, handles_choice reformat_unpopular, smiles_choice reformat, neg_marked_choice True, end_punkt_choice True\n",
      "0    hope went good ! make_NEG think_NEG hang_NEG h...\n",
      "Name: text, dtype: object\n",
      "Accuracy: 0.726\n",
      "ACCURACY 0.726, handles_choice reformat_unpopular, smiles_choice reformat, neg_marked_choice True, end_punkt_choice False\n",
      "0    hope went good ! not make think hang haha enjo...\n",
      "Name: text, dtype: object\n",
      "Accuracy: 0.73425\n",
      "ACCURACY 0.73425, handles_choice reformat_unpopular, smiles_choice reformat, neg_marked_choice False, end_punkt_choice True\n",
      "0    hope went good ! not make think hang haha enjo...\n",
      "Name: text, dtype: object\n",
      "Accuracy: 0.73425\n",
      "ACCURACY 0.73425, handles_choice reformat_unpopular, smiles_choice reformat, neg_marked_choice False, end_punkt_choice False\n",
      "0    @jackalltimelow hope went good ! make_NEG ,_NE...\n",
      "Name: text, dtype: object\n",
      "Accuracy: 0.72675\n",
      "ACCURACY 0.72675, handles_choice leave_all, smiles_choice leave_all, neg_marked_choice True, end_punkt_choice True\n",
      "0    @jackalltimelow hope went good ! make_NEG ,_NE...\n",
      "Name: text, dtype: object\n",
      "Accuracy: 0.72675\n",
      "ACCURACY 0.72675, handles_choice leave_all, smiles_choice leave_all, neg_marked_choice True, end_punkt_choice False\n"
     ]
    },
    {
     "name": "stdout",
     "output_type": "stream",
     "text": [
      "0    @jackalltimelow hope went good ! not make thin...\n",
      "Name: text, dtype: object\n",
      "Accuracy: 0.7335\n",
      "ACCURACY 0.7335, handles_choice leave_all, smiles_choice leave_all, neg_marked_choice False, end_punkt_choice True\n",
      "0    @jackalltimelow hope went good ! not make thin...\n",
      "Name: text, dtype: object\n",
      "Accuracy: 0.7335\n",
      "ACCURACY 0.7335, handles_choice leave_all, smiles_choice leave_all, neg_marked_choice False, end_punkt_choice False\n",
      "0    hope went good ! make_NEG think_NEG hang_NEG h...\n",
      "Name: text, dtype: object\n",
      "Accuracy: 0.726\n",
      "ACCURACY 0.726, handles_choice leave_all, smiles_choice delete_all, neg_marked_choice True, end_punkt_choice True\n",
      "0    hope went good ! make_NEG think_NEG hang_NEG h...\n",
      "Name: text, dtype: object\n",
      "Accuracy: 0.726\n",
      "ACCURACY 0.726, handles_choice leave_all, smiles_choice delete_all, neg_marked_choice True, end_punkt_choice False\n",
      "0    hope went good ! not make think hang haha enjo...\n",
      "Name: text, dtype: object\n",
      "Accuracy: 0.73375\n",
      "ACCURACY 0.73375, handles_choice leave_all, smiles_choice delete_all, neg_marked_choice False, end_punkt_choice True\n",
      "0    hope went good ! not make think hang haha enjo...\n",
      "Name: text, dtype: object\n",
      "Accuracy: 0.73375\n",
      "ACCURACY 0.73375, handles_choice leave_all, smiles_choice delete_all, neg_marked_choice False, end_punkt_choice False\n",
      "0    hope went good ! make_NEG think_NEG hang_NEG h...\n",
      "Name: text, dtype: object\n",
      "Accuracy: 0.7255\n",
      "ACCURACY 0.7255, handles_choice leave_all, smiles_choice reformat, neg_marked_choice True, end_punkt_choice True\n",
      "0    hope went good ! make_NEG think_NEG hang_NEG h...\n",
      "Name: text, dtype: object\n",
      "Accuracy: 0.7255\n",
      "ACCURACY 0.7255, handles_choice leave_all, smiles_choice reformat, neg_marked_choice True, end_punkt_choice False\n",
      "0    hope went good ! not make think hang haha enjo...\n",
      "Name: text, dtype: object\n",
      "Accuracy: 0.734\n",
      "ACCURACY 0.734, handles_choice leave_all, smiles_choice reformat, neg_marked_choice False, end_punkt_choice True\n",
      "0    hope went good ! not make think hang haha enjo...\n",
      "Name: text, dtype: object\n",
      "Accuracy: 0.734\n",
      "ACCURACY 0.734, handles_choice leave_all, smiles_choice reformat, neg_marked_choice False, end_punkt_choice False\n",
      "0    @handle hope went good ! make_NEG ,_NEG think_...\n",
      "Name: text, dtype: object\n",
      "Accuracy: 0.727\n",
      "ACCURACY 0.727, handles_choice reformat_all, smiles_choice leave_all, neg_marked_choice True, end_punkt_choice True\n",
      "0    @handle hope went good ! make_NEG ,_NEG think_...\n",
      "Name: text, dtype: object\n",
      "Accuracy: 0.727\n",
      "ACCURACY 0.727, handles_choice reformat_all, smiles_choice leave_all, neg_marked_choice True, end_punkt_choice False\n",
      "0    @handle hope went good ! not make think hang h...\n",
      "Name: text, dtype: object\n",
      "Accuracy: 0.738\n",
      "ACCURACY 0.738, handles_choice reformat_all, smiles_choice leave_all, neg_marked_choice False, end_punkt_choice True\n",
      "0    @handle hope went good ! not make think hang h...\n",
      "Name: text, dtype: object\n",
      "Accuracy: 0.738\n",
      "ACCURACY 0.738, handles_choice reformat_all, smiles_choice leave_all, neg_marked_choice False, end_punkt_choice False\n",
      "0    hope went good ! make_NEG think_NEG hang_NEG h...\n",
      "Name: text, dtype: object\n",
      "Accuracy: 0.7265\n",
      "ACCURACY 0.7265, handles_choice reformat_all, smiles_choice delete_all, neg_marked_choice True, end_punkt_choice True\n",
      "0    hope went good ! make_NEG think_NEG hang_NEG h...\n",
      "Name: text, dtype: object\n",
      "Accuracy: 0.7265\n",
      "ACCURACY 0.7265, handles_choice reformat_all, smiles_choice delete_all, neg_marked_choice True, end_punkt_choice False\n",
      "0    hope went good ! not make think hang haha enjo...\n",
      "Name: text, dtype: object\n",
      "Accuracy: 0.73375\n",
      "ACCURACY 0.73375, handles_choice reformat_all, smiles_choice delete_all, neg_marked_choice False, end_punkt_choice True\n",
      "0    hope went good ! not make think hang haha enjo...\n",
      "Name: text, dtype: object\n",
      "Accuracy: 0.73375\n",
      "ACCURACY 0.73375, handles_choice reformat_all, smiles_choice delete_all, neg_marked_choice False, end_punkt_choice False\n",
      "0    hope went good ! make_NEG think_NEG hang_NEG h...\n",
      "Name: text, dtype: object\n",
      "Accuracy: 0.726\n",
      "ACCURACY 0.726, handles_choice reformat_all, smiles_choice reformat, neg_marked_choice True, end_punkt_choice True\n",
      "0    hope went good ! make_NEG think_NEG hang_NEG h...\n",
      "Name: text, dtype: object\n",
      "Accuracy: 0.726\n",
      "ACCURACY 0.726, handles_choice reformat_all, smiles_choice reformat, neg_marked_choice True, end_punkt_choice False\n",
      "0    hope went good ! not make think hang haha enjo...\n",
      "Name: text, dtype: object\n",
      "Accuracy: 0.73425\n",
      "ACCURACY 0.73425, handles_choice reformat_all, smiles_choice reformat, neg_marked_choice False, end_punkt_choice True\n",
      "0    hope went good ! not make think hang haha enjo...\n",
      "Name: text, dtype: object\n",
      "Accuracy: 0.73425\n",
      "ACCURACY 0.73425, handles_choice reformat_all, smiles_choice reformat, neg_marked_choice False, end_punkt_choice False\n"
     ]
    }
   ],
   "source": [
    "stat = {}\n",
    "problematic = []\n",
    "for a in handles_choice:\n",
    "    for b in smiles_choice:\n",
    "        for c in neg_marked_choice:\n",
    "            for d in end_punkt_choice:\n",
    "                for_proc = df.copy()\n",
    "                proc_res = new_data(for_proc, a, b, c, d)\n",
    "                problematic.append([(a,b,c,d),proc_res[1]])\n",
    "                print(proc_res[0].head(1)['text'])\n",
    "                accuracy = stats(proc_res[0].copy())\n",
    "                \n",
    "                print(f\"ACCURACY {accuracy}, handles_choice {a}, smiles_choice {b}, neg_marked_choice {c}, end_punkt_choice {d}\")\n",
    "                param = f\"handles_choice {a}, smiles_choice {b}, neg_marked_choice {c}, end_punkt_choice {d}\"\n",
    "                stat.update({param:accuracy})\n",
    "        "
   ]
  },
  {
   "cell_type": "code",
   "execution_count": 137,
   "metadata": {},
   "outputs": [
    {
     "name": "stdout",
     "output_type": "stream",
     "text": [
      "0    hope went good ! make_NEG ,_NEG think_NEG hang...\n",
      "Name: text, dtype: object\n",
      "Accuracy: 0.737\n",
      "ACCURACY 0.737, handles_choice delete_all, smiles_choice leave_all, neg_marked_choice True, end_punkt_choice True\n",
      "0    hope went good ! make_NEG ,_NEG think_NEG hang...\n",
      "Name: text, dtype: object\n",
      "Accuracy: 0.737\n",
      "ACCURACY 0.737, handles_choice delete_all, smiles_choice leave_all, neg_marked_choice True, end_punkt_choice False\n",
      "0    hope went good ! not make think hang haha enjo...\n",
      "Name: text, dtype: object\n",
      "Accuracy: 0.7435\n",
      "ACCURACY 0.7435, handles_choice delete_all, smiles_choice leave_all, neg_marked_choice False, end_punkt_choice True\n",
      "0    hope went good ! not make think hang haha enjo...\n",
      "Name: text, dtype: object\n",
      "Accuracy: 0.7435\n",
      "ACCURACY 0.7435, handles_choice delete_all, smiles_choice leave_all, neg_marked_choice False, end_punkt_choice False\n",
      "0    hope went good ! make_NEG think_NEG hang_NEG h...\n",
      "Name: text, dtype: object\n",
      "Accuracy: 0.73775\n",
      "ACCURACY 0.73775, handles_choice delete_all, smiles_choice delete_all, neg_marked_choice True, end_punkt_choice True\n",
      "0    hope went good ! make_NEG think_NEG hang_NEG h...\n",
      "Name: text, dtype: object\n",
      "Accuracy: 0.73775\n",
      "ACCURACY 0.73775, handles_choice delete_all, smiles_choice delete_all, neg_marked_choice True, end_punkt_choice False\n",
      "0    hope went good ! not make think hang haha enjo...\n",
      "Name: text, dtype: object\n",
      "Accuracy: 0.74175\n",
      "ACCURACY 0.74175, handles_choice delete_all, smiles_choice delete_all, neg_marked_choice False, end_punkt_choice True\n",
      "0    hope went good ! not make think hang haha enjo...\n",
      "Name: text, dtype: object\n",
      "Accuracy: 0.74175\n",
      "ACCURACY 0.74175, handles_choice delete_all, smiles_choice delete_all, neg_marked_choice False, end_punkt_choice False\n",
      "0    hope went good ! make_NEG think_NEG hang_NEG h...\n",
      "Name: text, dtype: object\n",
      "Accuracy: 0.73725\n",
      "ACCURACY 0.73725, handles_choice delete_all, smiles_choice reformat, neg_marked_choice True, end_punkt_choice True\n",
      "0    hope went good ! make_NEG think_NEG hang_NEG h...\n",
      "Name: text, dtype: object\n",
      "Accuracy: 0.73725\n",
      "ACCURACY 0.73725, handles_choice delete_all, smiles_choice reformat, neg_marked_choice True, end_punkt_choice False\n",
      "0    hope went good ! not make think hang haha enjo...\n",
      "Name: text, dtype: object\n",
      "Accuracy: 0.74275\n",
      "ACCURACY 0.74275, handles_choice delete_all, smiles_choice reformat, neg_marked_choice False, end_punkt_choice True\n",
      "0    hope went good ! not make think hang haha enjo...\n",
      "Name: text, dtype: object\n",
      "Accuracy: 0.74275\n",
      "ACCURACY 0.74275, handles_choice delete_all, smiles_choice reformat, neg_marked_choice False, end_punkt_choice False\n",
      "0    hope went good ! make_NEG ,_NEG think_NEG hang...\n",
      "Name: text, dtype: object\n",
      "Accuracy: 0.738\n",
      "ACCURACY 0.738, handles_choice delete_unpopular, smiles_choice leave_all, neg_marked_choice True, end_punkt_choice True\n",
      "0    hope went good ! make_NEG ,_NEG think_NEG hang...\n",
      "Name: text, dtype: object\n",
      "Accuracy: 0.738\n",
      "ACCURACY 0.738, handles_choice delete_unpopular, smiles_choice leave_all, neg_marked_choice True, end_punkt_choice False\n",
      "0    hope went good ! not make think hang haha enjo...\n",
      "Name: text, dtype: object\n",
      "Accuracy: 0.744\n",
      "ACCURACY 0.744, handles_choice delete_unpopular, smiles_choice leave_all, neg_marked_choice False, end_punkt_choice True\n",
      "0    hope went good ! not make think hang haha enjo...\n",
      "Name: text, dtype: object\n",
      "Accuracy: 0.744\n",
      "ACCURACY 0.744, handles_choice delete_unpopular, smiles_choice leave_all, neg_marked_choice False, end_punkt_choice False\n",
      "0    hope went good ! make_NEG think_NEG hang_NEG h...\n",
      "Name: text, dtype: object\n",
      "Accuracy: 0.73775\n",
      "ACCURACY 0.73775, handles_choice delete_unpopular, smiles_choice delete_all, neg_marked_choice True, end_punkt_choice True\n",
      "0    hope went good ! make_NEG think_NEG hang_NEG h...\n",
      "Name: text, dtype: object\n",
      "Accuracy: 0.73775\n",
      "ACCURACY 0.73775, handles_choice delete_unpopular, smiles_choice delete_all, neg_marked_choice True, end_punkt_choice False\n",
      "0    hope went good ! not make think hang haha enjo...\n",
      "Name: text, dtype: object\n",
      "Accuracy: 0.74175\n",
      "ACCURACY 0.74175, handles_choice delete_unpopular, smiles_choice delete_all, neg_marked_choice False, end_punkt_choice True\n",
      "0    hope went good ! not make think hang haha enjo...\n",
      "Name: text, dtype: object\n",
      "Accuracy: 0.74175\n",
      "ACCURACY 0.74175, handles_choice delete_unpopular, smiles_choice delete_all, neg_marked_choice False, end_punkt_choice False\n",
      "0    hope went good ! make_NEG think_NEG hang_NEG h...\n",
      "Name: text, dtype: object\n",
      "Accuracy: 0.73725\n",
      "ACCURACY 0.73725, handles_choice delete_unpopular, smiles_choice reformat, neg_marked_choice True, end_punkt_choice True\n",
      "0    hope went good ! make_NEG think_NEG hang_NEG h...\n",
      "Name: text, dtype: object\n",
      "Accuracy: 0.73725\n",
      "ACCURACY 0.73725, handles_choice delete_unpopular, smiles_choice reformat, neg_marked_choice True, end_punkt_choice False\n",
      "0    hope went good ! not make think hang haha enjo...\n",
      "Name: text, dtype: object\n",
      "Accuracy: 0.74275\n",
      "ACCURACY 0.74275, handles_choice delete_unpopular, smiles_choice reformat, neg_marked_choice False, end_punkt_choice True\n",
      "0    hope went good ! not make think hang haha enjo...\n",
      "Name: text, dtype: object\n",
      "Accuracy: 0.74275\n",
      "ACCURACY 0.74275, handles_choice delete_unpopular, smiles_choice reformat, neg_marked_choice False, end_punkt_choice False\n",
      "0    @handle hope went good ! make_NEG ,_NEG think_...\n",
      "Name: text, dtype: object\n",
      "Accuracy: 0.742\n",
      "ACCURACY 0.742, handles_choice reformat_unpopular, smiles_choice leave_all, neg_marked_choice True, end_punkt_choice True\n",
      "0    @handle hope went good ! make_NEG ,_NEG think_...\n",
      "Name: text, dtype: object\n",
      "Accuracy: 0.742\n",
      "ACCURACY 0.742, handles_choice reformat_unpopular, smiles_choice leave_all, neg_marked_choice True, end_punkt_choice False\n",
      "0    @handle hope went good ! not make think hang h...\n",
      "Name: text, dtype: object\n",
      "Accuracy: 0.74075\n",
      "ACCURACY 0.74075, handles_choice reformat_unpopular, smiles_choice leave_all, neg_marked_choice False, end_punkt_choice True\n",
      "0    @handle hope went good ! not make think hang h...\n",
      "Name: text, dtype: object\n",
      "Accuracy: 0.74075\n",
      "ACCURACY 0.74075, handles_choice reformat_unpopular, smiles_choice leave_all, neg_marked_choice False, end_punkt_choice False\n",
      "0    hope went good ! make_NEG think_NEG hang_NEG h...\n",
      "Name: text, dtype: object\n",
      "Accuracy: 0.73775\n",
      "ACCURACY 0.73775, handles_choice reformat_unpopular, smiles_choice delete_all, neg_marked_choice True, end_punkt_choice True\n",
      "0    hope went good ! make_NEG think_NEG hang_NEG h...\n",
      "Name: text, dtype: object\n",
      "Accuracy: 0.73775\n",
      "ACCURACY 0.73775, handles_choice reformat_unpopular, smiles_choice delete_all, neg_marked_choice True, end_punkt_choice False\n",
      "0    hope went good ! not make think hang haha enjo...\n",
      "Name: text, dtype: object\n",
      "Accuracy: 0.74175\n",
      "ACCURACY 0.74175, handles_choice reformat_unpopular, smiles_choice delete_all, neg_marked_choice False, end_punkt_choice True\n",
      "0    hope went good ! not make think hang haha enjo...\n",
      "Name: text, dtype: object\n",
      "Accuracy: 0.74175\n",
      "ACCURACY 0.74175, handles_choice reformat_unpopular, smiles_choice delete_all, neg_marked_choice False, end_punkt_choice False\n",
      "0    hope went good ! make_NEG think_NEG hang_NEG h...\n",
      "Name: text, dtype: object\n",
      "Accuracy: 0.73725\n",
      "ACCURACY 0.73725, handles_choice reformat_unpopular, smiles_choice reformat, neg_marked_choice True, end_punkt_choice True\n",
      "0    hope went good ! make_NEG think_NEG hang_NEG h...\n",
      "Name: text, dtype: object\n",
      "Accuracy: 0.73725\n",
      "ACCURACY 0.73725, handles_choice reformat_unpopular, smiles_choice reformat, neg_marked_choice True, end_punkt_choice False\n",
      "0    hope went good ! not make think hang haha enjo...\n",
      "Name: text, dtype: object\n",
      "Accuracy: 0.74275\n",
      "ACCURACY 0.74275, handles_choice reformat_unpopular, smiles_choice reformat, neg_marked_choice False, end_punkt_choice True\n",
      "0    hope went good ! not make think hang haha enjo...\n",
      "Name: text, dtype: object\n",
      "Accuracy: 0.74275\n",
      "ACCURACY 0.74275, handles_choice reformat_unpopular, smiles_choice reformat, neg_marked_choice False, end_punkt_choice False\n",
      "0    @jackalltimelow hope went good ! make_NEG ,_NE...\n",
      "Name: text, dtype: object\n",
      "Accuracy: 0.73525\n",
      "ACCURACY 0.73525, handles_choice leave_all, smiles_choice leave_all, neg_marked_choice True, end_punkt_choice True\n",
      "0    @jackalltimelow hope went good ! make_NEG ,_NE...\n",
      "Name: text, dtype: object\n"
     ]
    },
    {
     "name": "stdout",
     "output_type": "stream",
     "text": [
      "Accuracy: 0.73525\n",
      "ACCURACY 0.73525, handles_choice leave_all, smiles_choice leave_all, neg_marked_choice True, end_punkt_choice False\n",
      "0    @jackalltimelow hope went good ! not make thin...\n",
      "Name: text, dtype: object\n",
      "Accuracy: 0.74275\n",
      "ACCURACY 0.74275, handles_choice leave_all, smiles_choice leave_all, neg_marked_choice False, end_punkt_choice True\n",
      "0    @jackalltimelow hope went good ! not make thin...\n",
      "Name: text, dtype: object\n",
      "Accuracy: 0.74275\n",
      "ACCURACY 0.74275, handles_choice leave_all, smiles_choice leave_all, neg_marked_choice False, end_punkt_choice False\n",
      "0    hope went good ! make_NEG think_NEG hang_NEG h...\n",
      "Name: text, dtype: object\n",
      "Accuracy: 0.7375\n",
      "ACCURACY 0.7375, handles_choice leave_all, smiles_choice delete_all, neg_marked_choice True, end_punkt_choice True\n",
      "0    hope went good ! make_NEG think_NEG hang_NEG h...\n",
      "Name: text, dtype: object\n",
      "Accuracy: 0.7375\n",
      "ACCURACY 0.7375, handles_choice leave_all, smiles_choice delete_all, neg_marked_choice True, end_punkt_choice False\n",
      "0    hope went good ! not make think hang haha enjo...\n",
      "Name: text, dtype: object\n",
      "Accuracy: 0.74175\n",
      "ACCURACY 0.74175, handles_choice leave_all, smiles_choice delete_all, neg_marked_choice False, end_punkt_choice True\n",
      "0    hope went good ! not make think hang haha enjo...\n",
      "Name: text, dtype: object\n",
      "Accuracy: 0.74175\n",
      "ACCURACY 0.74175, handles_choice leave_all, smiles_choice delete_all, neg_marked_choice False, end_punkt_choice False\n",
      "0    hope went good ! make_NEG think_NEG hang_NEG h...\n",
      "Name: text, dtype: object\n",
      "Accuracy: 0.737\n",
      "ACCURACY 0.737, handles_choice leave_all, smiles_choice reformat, neg_marked_choice True, end_punkt_choice True\n",
      "0    hope went good ! make_NEG think_NEG hang_NEG h...\n",
      "Name: text, dtype: object\n",
      "Accuracy: 0.737\n",
      "ACCURACY 0.737, handles_choice leave_all, smiles_choice reformat, neg_marked_choice True, end_punkt_choice False\n",
      "0    hope went good ! not make think hang haha enjo...\n",
      "Name: text, dtype: object\n",
      "Accuracy: 0.7425\n",
      "ACCURACY 0.7425, handles_choice leave_all, smiles_choice reformat, neg_marked_choice False, end_punkt_choice True\n",
      "0    hope went good ! not make think hang haha enjo...\n",
      "Name: text, dtype: object\n",
      "Accuracy: 0.7425\n",
      "ACCURACY 0.7425, handles_choice leave_all, smiles_choice reformat, neg_marked_choice False, end_punkt_choice False\n",
      "0    @handle hope went good ! make_NEG ,_NEG think_...\n",
      "Name: text, dtype: object\n",
      "Accuracy: 0.742\n",
      "ACCURACY 0.742, handles_choice reformat_all, smiles_choice leave_all, neg_marked_choice True, end_punkt_choice True\n",
      "0    @handle hope went good ! make_NEG ,_NEG think_...\n",
      "Name: text, dtype: object\n",
      "Accuracy: 0.742\n",
      "ACCURACY 0.742, handles_choice reformat_all, smiles_choice leave_all, neg_marked_choice True, end_punkt_choice False\n",
      "0    @handle hope went good ! not make think hang h...\n",
      "Name: text, dtype: object\n",
      "Accuracy: 0.74025\n",
      "ACCURACY 0.74025, handles_choice reformat_all, smiles_choice leave_all, neg_marked_choice False, end_punkt_choice True\n",
      "0    @handle hope went good ! not make think hang h...\n",
      "Name: text, dtype: object\n",
      "Accuracy: 0.74025\n",
      "ACCURACY 0.74025, handles_choice reformat_all, smiles_choice leave_all, neg_marked_choice False, end_punkt_choice False\n",
      "0    hope went good ! make_NEG think_NEG hang_NEG h...\n",
      "Name: text, dtype: object\n",
      "Accuracy: 0.73775\n",
      "ACCURACY 0.73775, handles_choice reformat_all, smiles_choice delete_all, neg_marked_choice True, end_punkt_choice True\n",
      "0    hope went good ! make_NEG think_NEG hang_NEG h...\n",
      "Name: text, dtype: object\n",
      "Accuracy: 0.73775\n",
      "ACCURACY 0.73775, handles_choice reformat_all, smiles_choice delete_all, neg_marked_choice True, end_punkt_choice False\n",
      "0    hope went good ! not make think hang haha enjo...\n",
      "Name: text, dtype: object\n",
      "Accuracy: 0.74175\n",
      "ACCURACY 0.74175, handles_choice reformat_all, smiles_choice delete_all, neg_marked_choice False, end_punkt_choice True\n",
      "0    hope went good ! not make think hang haha enjo...\n",
      "Name: text, dtype: object\n",
      "Accuracy: 0.74175\n",
      "ACCURACY 0.74175, handles_choice reformat_all, smiles_choice delete_all, neg_marked_choice False, end_punkt_choice False\n",
      "0    hope went good ! make_NEG think_NEG hang_NEG h...\n",
      "Name: text, dtype: object\n",
      "Accuracy: 0.73725\n",
      "ACCURACY 0.73725, handles_choice reformat_all, smiles_choice reformat, neg_marked_choice True, end_punkt_choice True\n",
      "0    hope went good ! make_NEG think_NEG hang_NEG h...\n",
      "Name: text, dtype: object\n",
      "Accuracy: 0.73725\n",
      "ACCURACY 0.73725, handles_choice reformat_all, smiles_choice reformat, neg_marked_choice True, end_punkt_choice False\n",
      "0    hope went good ! not make think hang haha enjo...\n",
      "Name: text, dtype: object\n",
      "Accuracy: 0.74275\n",
      "ACCURACY 0.74275, handles_choice reformat_all, smiles_choice reformat, neg_marked_choice False, end_punkt_choice True\n",
      "0    hope went good ! not make think hang haha enjo...\n",
      "Name: text, dtype: object\n",
      "Accuracy: 0.74275\n",
      "ACCURACY 0.74275, handles_choice reformat_all, smiles_choice reformat, neg_marked_choice False, end_punkt_choice False\n"
     ]
    }
   ],
   "source": [
    "stat2 = {}\n",
    "problematic = []\n",
    "for a in handles_choice:\n",
    "    for b in smiles_choice:\n",
    "        for c in neg_marked_choice:\n",
    "            for d in end_punkt_choice:\n",
    "                for_proc = df.copy()\n",
    "                proc_res = new_data(for_proc, a, b, c, d)\n",
    "                problematic.append([(a,b,c,d),proc_res[1]])\n",
    "                print(proc_res[0].head(1)['text'])\n",
    "                accuracy = stats2(proc_res[0].copy())\n",
    "                \n",
    "                print(f\"ACCURACY {accuracy}, handles_choice {a}, smiles_choice {b}, neg_marked_choice {c}, end_punkt_choice {d}\")\n",
    "                param = f\"handles_choice {a}, smiles_choice {b}, neg_marked_choice {c}, end_punkt_choice {d}\"\n",
    "                stat2.update({param:accuracy})\n",
    "        "
   ]
  },
  {
   "cell_type": "code",
   "execution_count": 139,
   "metadata": {},
   "outputs": [
    {
     "name": "stdout",
     "output_type": "stream",
     "text": [
      "0    hope went good ! make_NEG ,_NEG think_NEG hang...\n",
      "Name: text, dtype: object\n",
      "Accuracy: 0.752\n",
      "ACCURACY 0.752, handles_choice delete_all, smiles_choice leave_all, neg_marked_choice True, end_punkt_choice True\n",
      "0    hope went good ! make_NEG ,_NEG think_NEG hang...\n",
      "Name: text, dtype: object\n",
      "Accuracy: 0.752\n",
      "ACCURACY 0.752, handles_choice delete_all, smiles_choice leave_all, neg_marked_choice True, end_punkt_choice False\n",
      "0    hope went good ! not make think hang haha enjo...\n",
      "Name: text, dtype: object\n",
      "Accuracy: 0.75775\n",
      "ACCURACY 0.75775, handles_choice delete_all, smiles_choice leave_all, neg_marked_choice False, end_punkt_choice True\n",
      "0    hope went good ! not make think hang haha enjo...\n",
      "Name: text, dtype: object\n",
      "Accuracy: 0.75775\n",
      "ACCURACY 0.75775, handles_choice delete_all, smiles_choice leave_all, neg_marked_choice False, end_punkt_choice False\n",
      "0    hope went good ! make_NEG think_NEG hang_NEG h...\n",
      "Name: text, dtype: object\n",
      "Accuracy: 0.7465\n",
      "ACCURACY 0.7465, handles_choice delete_all, smiles_choice delete_all, neg_marked_choice True, end_punkt_choice True\n",
      "0    hope went good ! make_NEG think_NEG hang_NEG h...\n",
      "Name: text, dtype: object\n",
      "Accuracy: 0.7465\n",
      "ACCURACY 0.7465, handles_choice delete_all, smiles_choice delete_all, neg_marked_choice True, end_punkt_choice False\n",
      "0    hope went good ! not make think hang haha enjo...\n",
      "Name: text, dtype: object\n",
      "Accuracy: 0.75325\n",
      "ACCURACY 0.75325, handles_choice delete_all, smiles_choice delete_all, neg_marked_choice False, end_punkt_choice True\n",
      "0    hope went good ! not make think hang haha enjo...\n",
      "Name: text, dtype: object\n",
      "Accuracy: 0.75325\n",
      "ACCURACY 0.75325, handles_choice delete_all, smiles_choice delete_all, neg_marked_choice False, end_punkt_choice False\n",
      "0    hope went good ! make_NEG think_NEG hang_NEG h...\n",
      "Name: text, dtype: object\n",
      "Accuracy: 0.74825\n",
      "ACCURACY 0.74825, handles_choice delete_all, smiles_choice reformat, neg_marked_choice True, end_punkt_choice True\n",
      "0    hope went good ! make_NEG think_NEG hang_NEG h...\n",
      "Name: text, dtype: object\n",
      "Accuracy: 0.74825\n",
      "ACCURACY 0.74825, handles_choice delete_all, smiles_choice reformat, neg_marked_choice True, end_punkt_choice False\n",
      "0    hope went good ! not make think hang haha enjo...\n",
      "Name: text, dtype: object\n",
      "Accuracy: 0.752\n",
      "ACCURACY 0.752, handles_choice delete_all, smiles_choice reformat, neg_marked_choice False, end_punkt_choice True\n",
      "0    hope went good ! not make think hang haha enjo...\n",
      "Name: text, dtype: object\n",
      "Accuracy: 0.752\n",
      "ACCURACY 0.752, handles_choice delete_all, smiles_choice reformat, neg_marked_choice False, end_punkt_choice False\n",
      "0    hope went good ! make_NEG ,_NEG think_NEG hang...\n",
      "Name: text, dtype: object\n",
      "Accuracy: 0.75075\n",
      "ACCURACY 0.75075, handles_choice delete_unpopular, smiles_choice leave_all, neg_marked_choice True, end_punkt_choice True\n",
      "0    hope went good ! make_NEG ,_NEG think_NEG hang...\n",
      "Name: text, dtype: object\n",
      "Accuracy: 0.75075\n",
      "ACCURACY 0.75075, handles_choice delete_unpopular, smiles_choice leave_all, neg_marked_choice True, end_punkt_choice False\n",
      "0    hope went good ! not make think hang haha enjo...\n",
      "Name: text, dtype: object\n",
      "Accuracy: 0.7575\n",
      "ACCURACY 0.7575, handles_choice delete_unpopular, smiles_choice leave_all, neg_marked_choice False, end_punkt_choice True\n",
      "0    hope went good ! not make think hang haha enjo...\n",
      "Name: text, dtype: object\n",
      "Accuracy: 0.7575\n",
      "ACCURACY 0.7575, handles_choice delete_unpopular, smiles_choice leave_all, neg_marked_choice False, end_punkt_choice False\n",
      "0    hope went good ! make_NEG think_NEG hang_NEG h...\n",
      "Name: text, dtype: object\n",
      "Accuracy: 0.7465\n",
      "ACCURACY 0.7465, handles_choice delete_unpopular, smiles_choice delete_all, neg_marked_choice True, end_punkt_choice True\n",
      "0    hope went good ! make_NEG think_NEG hang_NEG h...\n",
      "Name: text, dtype: object\n",
      "Accuracy: 0.7465\n",
      "ACCURACY 0.7465, handles_choice delete_unpopular, smiles_choice delete_all, neg_marked_choice True, end_punkt_choice False\n",
      "0    hope went good ! not make think hang haha enjo...\n",
      "Name: text, dtype: object\n",
      "Accuracy: 0.75325\n",
      "ACCURACY 0.75325, handles_choice delete_unpopular, smiles_choice delete_all, neg_marked_choice False, end_punkt_choice True\n",
      "0    hope went good ! not make think hang haha enjo...\n",
      "Name: text, dtype: object\n",
      "Accuracy: 0.75325\n",
      "ACCURACY 0.75325, handles_choice delete_unpopular, smiles_choice delete_all, neg_marked_choice False, end_punkt_choice False\n",
      "0    hope went good ! make_NEG think_NEG hang_NEG h...\n",
      "Name: text, dtype: object\n",
      "Accuracy: 0.74825\n",
      "ACCURACY 0.74825, handles_choice delete_unpopular, smiles_choice reformat, neg_marked_choice True, end_punkt_choice True\n",
      "0    hope went good ! make_NEG think_NEG hang_NEG h...\n",
      "Name: text, dtype: object\n",
      "Accuracy: 0.74825\n",
      "ACCURACY 0.74825, handles_choice delete_unpopular, smiles_choice reformat, neg_marked_choice True, end_punkt_choice False\n",
      "0    hope went good ! not make think hang haha enjo...\n",
      "Name: text, dtype: object\n",
      "Accuracy: 0.752\n",
      "ACCURACY 0.752, handles_choice delete_unpopular, smiles_choice reformat, neg_marked_choice False, end_punkt_choice True\n",
      "0    hope went good ! not make think hang haha enjo...\n",
      "Name: text, dtype: object\n",
      "Accuracy: 0.752\n",
      "ACCURACY 0.752, handles_choice delete_unpopular, smiles_choice reformat, neg_marked_choice False, end_punkt_choice False\n",
      "0    @handle hope went good ! make_NEG ,_NEG think_...\n",
      "Name: text, dtype: object\n",
      "Accuracy: 0.751\n",
      "ACCURACY 0.751, handles_choice reformat_unpopular, smiles_choice leave_all, neg_marked_choice True, end_punkt_choice True\n",
      "0    @handle hope went good ! make_NEG ,_NEG think_...\n",
      "Name: text, dtype: object\n",
      "Accuracy: 0.751\n",
      "ACCURACY 0.751, handles_choice reformat_unpopular, smiles_choice leave_all, neg_marked_choice True, end_punkt_choice False\n",
      "0    @handle hope went good ! not make think hang h...\n",
      "Name: text, dtype: object\n",
      "Accuracy: 0.757\n",
      "ACCURACY 0.757, handles_choice reformat_unpopular, smiles_choice leave_all, neg_marked_choice False, end_punkt_choice True\n",
      "0    @handle hope went good ! not make think hang h...\n",
      "Name: text, dtype: object\n",
      "Accuracy: 0.757\n",
      "ACCURACY 0.757, handles_choice reformat_unpopular, smiles_choice leave_all, neg_marked_choice False, end_punkt_choice False\n",
      "0    hope went good ! make_NEG think_NEG hang_NEG h...\n",
      "Name: text, dtype: object\n",
      "Accuracy: 0.7465\n",
      "ACCURACY 0.7465, handles_choice reformat_unpopular, smiles_choice delete_all, neg_marked_choice True, end_punkt_choice True\n",
      "0    hope went good ! make_NEG think_NEG hang_NEG h...\n",
      "Name: text, dtype: object\n",
      "Accuracy: 0.7465\n",
      "ACCURACY 0.7465, handles_choice reformat_unpopular, smiles_choice delete_all, neg_marked_choice True, end_punkt_choice False\n",
      "0    hope went good ! not make think hang haha enjo...\n",
      "Name: text, dtype: object\n",
      "Accuracy: 0.75325\n",
      "ACCURACY 0.75325, handles_choice reformat_unpopular, smiles_choice delete_all, neg_marked_choice False, end_punkt_choice True\n",
      "0    hope went good ! not make think hang haha enjo...\n",
      "Name: text, dtype: object\n",
      "Accuracy: 0.75325\n",
      "ACCURACY 0.75325, handles_choice reformat_unpopular, smiles_choice delete_all, neg_marked_choice False, end_punkt_choice False\n",
      "0    hope went good ! make_NEG think_NEG hang_NEG h...\n",
      "Name: text, dtype: object\n",
      "Accuracy: 0.74825\n",
      "ACCURACY 0.74825, handles_choice reformat_unpopular, smiles_choice reformat, neg_marked_choice True, end_punkt_choice True\n",
      "0    hope went good ! make_NEG think_NEG hang_NEG h...\n",
      "Name: text, dtype: object\n",
      "Accuracy: 0.74825\n",
      "ACCURACY 0.74825, handles_choice reformat_unpopular, smiles_choice reformat, neg_marked_choice True, end_punkt_choice False\n",
      "0    hope went good ! not make think hang haha enjo...\n",
      "Name: text, dtype: object\n",
      "Accuracy: 0.752\n",
      "ACCURACY 0.752, handles_choice reformat_unpopular, smiles_choice reformat, neg_marked_choice False, end_punkt_choice True\n",
      "0    hope went good ! not make think hang haha enjo...\n",
      "Name: text, dtype: object\n",
      "Accuracy: 0.752\n",
      "ACCURACY 0.752, handles_choice reformat_unpopular, smiles_choice reformat, neg_marked_choice False, end_punkt_choice False\n",
      "0    @jackalltimelow hope went good ! make_NEG ,_NE...\n",
      "Name: text, dtype: object\n",
      "Accuracy: 0.75275\n",
      "ACCURACY 0.75275, handles_choice leave_all, smiles_choice leave_all, neg_marked_choice True, end_punkt_choice True\n",
      "0    @jackalltimelow hope went good ! make_NEG ,_NE...\n",
      "Name: text, dtype: object\n",
      "Accuracy: 0.75275\n",
      "ACCURACY 0.75275, handles_choice leave_all, smiles_choice leave_all, neg_marked_choice True, end_punkt_choice False\n"
     ]
    },
    {
     "name": "stdout",
     "output_type": "stream",
     "text": [
      "0    @jackalltimelow hope went good ! not make thin...\n",
      "Name: text, dtype: object\n",
      "Accuracy: 0.7605\n",
      "ACCURACY 0.7605, handles_choice leave_all, smiles_choice leave_all, neg_marked_choice False, end_punkt_choice True\n",
      "0    @jackalltimelow hope went good ! not make thin...\n",
      "Name: text, dtype: object\n",
      "Accuracy: 0.7605\n",
      "ACCURACY 0.7605, handles_choice leave_all, smiles_choice leave_all, neg_marked_choice False, end_punkt_choice False\n",
      "0    hope went good ! make_NEG think_NEG hang_NEG h...\n",
      "Name: text, dtype: object\n",
      "Accuracy: 0.747\n",
      "ACCURACY 0.747, handles_choice leave_all, smiles_choice delete_all, neg_marked_choice True, end_punkt_choice True\n",
      "0    hope went good ! make_NEG think_NEG hang_NEG h...\n",
      "Name: text, dtype: object\n",
      "Accuracy: 0.747\n",
      "ACCURACY 0.747, handles_choice leave_all, smiles_choice delete_all, neg_marked_choice True, end_punkt_choice False\n",
      "0    hope went good ! not make think hang haha enjo...\n",
      "Name: text, dtype: object\n",
      "Accuracy: 0.7535\n",
      "ACCURACY 0.7535, handles_choice leave_all, smiles_choice delete_all, neg_marked_choice False, end_punkt_choice True\n",
      "0    hope went good ! not make think hang haha enjo...\n",
      "Name: text, dtype: object\n",
      "Accuracy: 0.7535\n",
      "ACCURACY 0.7535, handles_choice leave_all, smiles_choice delete_all, neg_marked_choice False, end_punkt_choice False\n",
      "0    hope went good ! make_NEG think_NEG hang_NEG h...\n",
      "Name: text, dtype: object\n",
      "Accuracy: 0.748\n",
      "ACCURACY 0.748, handles_choice leave_all, smiles_choice reformat, neg_marked_choice True, end_punkt_choice True\n",
      "0    hope went good ! make_NEG think_NEG hang_NEG h...\n",
      "Name: text, dtype: object\n",
      "Accuracy: 0.748\n",
      "ACCURACY 0.748, handles_choice leave_all, smiles_choice reformat, neg_marked_choice True, end_punkt_choice False\n",
      "0    hope went good ! not make think hang haha enjo...\n",
      "Name: text, dtype: object\n",
      "Accuracy: 0.75275\n",
      "ACCURACY 0.75275, handles_choice leave_all, smiles_choice reformat, neg_marked_choice False, end_punkt_choice True\n",
      "0    hope went good ! not make think hang haha enjo...\n",
      "Name: text, dtype: object\n",
      "Accuracy: 0.75275\n",
      "ACCURACY 0.75275, handles_choice leave_all, smiles_choice reformat, neg_marked_choice False, end_punkt_choice False\n",
      "0    @handle hope went good ! make_NEG ,_NEG think_...\n",
      "Name: text, dtype: object\n",
      "Accuracy: 0.75075\n",
      "ACCURACY 0.75075, handles_choice reformat_all, smiles_choice leave_all, neg_marked_choice True, end_punkt_choice True\n",
      "0    @handle hope went good ! make_NEG ,_NEG think_...\n",
      "Name: text, dtype: object\n",
      "Accuracy: 0.75075\n",
      "ACCURACY 0.75075, handles_choice reformat_all, smiles_choice leave_all, neg_marked_choice True, end_punkt_choice False\n",
      "0    @handle hope went good ! not make think hang h...\n",
      "Name: text, dtype: object\n",
      "Accuracy: 0.75725\n",
      "ACCURACY 0.75725, handles_choice reformat_all, smiles_choice leave_all, neg_marked_choice False, end_punkt_choice True\n",
      "0    @handle hope went good ! not make think hang h...\n",
      "Name: text, dtype: object\n",
      "Accuracy: 0.75725\n",
      "ACCURACY 0.75725, handles_choice reformat_all, smiles_choice leave_all, neg_marked_choice False, end_punkt_choice False\n",
      "0    hope went good ! make_NEG think_NEG hang_NEG h...\n",
      "Name: text, dtype: object\n",
      "Accuracy: 0.7465\n",
      "ACCURACY 0.7465, handles_choice reformat_all, smiles_choice delete_all, neg_marked_choice True, end_punkt_choice True\n",
      "0    hope went good ! make_NEG think_NEG hang_NEG h...\n",
      "Name: text, dtype: object\n",
      "Accuracy: 0.7465\n",
      "ACCURACY 0.7465, handles_choice reformat_all, smiles_choice delete_all, neg_marked_choice True, end_punkt_choice False\n",
      "0    hope went good ! not make think hang haha enjo...\n",
      "Name: text, dtype: object\n",
      "Accuracy: 0.75325\n",
      "ACCURACY 0.75325, handles_choice reformat_all, smiles_choice delete_all, neg_marked_choice False, end_punkt_choice True\n",
      "0    hope went good ! not make think hang haha enjo...\n",
      "Name: text, dtype: object\n",
      "Accuracy: 0.75325\n",
      "ACCURACY 0.75325, handles_choice reformat_all, smiles_choice delete_all, neg_marked_choice False, end_punkt_choice False\n",
      "0    hope went good ! make_NEG think_NEG hang_NEG h...\n",
      "Name: text, dtype: object\n",
      "Accuracy: 0.74825\n",
      "ACCURACY 0.74825, handles_choice reformat_all, smiles_choice reformat, neg_marked_choice True, end_punkt_choice True\n",
      "0    hope went good ! make_NEG think_NEG hang_NEG h...\n",
      "Name: text, dtype: object\n",
      "Accuracy: 0.74825\n",
      "ACCURACY 0.74825, handles_choice reformat_all, smiles_choice reformat, neg_marked_choice True, end_punkt_choice False\n",
      "0    hope went good ! not make think hang haha enjo...\n",
      "Name: text, dtype: object\n",
      "Accuracy: 0.752\n",
      "ACCURACY 0.752, handles_choice reformat_all, smiles_choice reformat, neg_marked_choice False, end_punkt_choice True\n",
      "0    hope went good ! not make think hang haha enjo...\n",
      "Name: text, dtype: object\n",
      "Accuracy: 0.752\n",
      "ACCURACY 0.752, handles_choice reformat_all, smiles_choice reformat, neg_marked_choice False, end_punkt_choice False\n"
     ]
    }
   ],
   "source": [
    "stat3 = {}\n",
    "problematic = []\n",
    "for a in handles_choice:\n",
    "    for b in smiles_choice:\n",
    "        for c in neg_marked_choice:\n",
    "            for d in end_punkt_choice:\n",
    "                for_proc = df.copy()\n",
    "                proc_res = new_data(for_proc, a, b, c, d)\n",
    "                problematic.append([(a,b,c,d),proc_res[1]])\n",
    "                print(proc_res[0].head(1)['text'])\n",
    "                accuracy = stats3(proc_res[0].copy())\n",
    "                \n",
    "                print(f\"ACCURACY {accuracy}, handles_choice {a}, smiles_choice {b}, neg_marked_choice {c}, end_punkt_choice {d}\")\n",
    "                param = f\"handles_choice {a}, smiles_choice {b}, neg_marked_choice {c}, end_punkt_choice {d}\"\n",
    "                stat3.update({param:accuracy})"
   ]
  },
  {
   "cell_type": "markdown",
   "metadata": {},
   "source": [
    "###  Какой препроцессинг выбрать?"
   ]
  },
  {
   "cell_type": "code",
   "execution_count": 141,
   "metadata": {},
   "outputs": [],
   "source": [
    "import operator\n",
    "sorted_d = sorted(stat3.items(), key=operator.itemgetter(1))"
   ]
  },
  {
   "cell_type": "code",
   "execution_count": 145,
   "metadata": {},
   "outputs": [
    {
     "name": "stdout",
     "output_type": "stream",
     "text": [
      "('handles_choice leave_all, smiles_choice leave_all, neg_marked_choice False, end_punkt_choice False', 0.7605)\n"
     ]
    }
   ],
   "source": [
    "print(sorted_d[-1])"
   ]
  },
  {
   "cell_type": "markdown",
   "metadata": {},
   "source": [
    "## Никакой он только мешает"
   ]
  },
  {
   "cell_type": "code",
   "execution_count": 146,
   "metadata": {},
   "outputs": [],
   "source": [
    "from sklearn.ensemble import GradientBoostingRegressor\n"
   ]
  },
  {
   "cell_type": "markdown",
   "metadata": {},
   "source": [
    "### Попробую другую модлеь"
   ]
  },
  {
   "cell_type": "code",
   "execution_count": 185,
   "metadata": {},
   "outputs": [
    {
     "name": "stderr",
     "output_type": "stream",
     "text": [
      "/Users/elizavetaersova/miniconda3/lib/python3.6/site-packages/sklearn/tree/_classes.py:301: FutureWarning: The min_impurity_split parameter is deprecated. Its default value will change from 1e-7 to 0 in version 0.23, and it will be removed in 0.25. Use the min_impurity_decrease parameter instead.\n",
      "  FutureWarning)\n",
      "/Users/elizavetaersova/miniconda3/lib/python3.6/site-packages/sklearn/tree/_classes.py:301: FutureWarning: The min_impurity_split parameter is deprecated. Its default value will change from 1e-7 to 0 in version 0.23, and it will be removed in 0.25. Use the min_impurity_decrease parameter instead.\n",
      "  FutureWarning)\n",
      "/Users/elizavetaersova/miniconda3/lib/python3.6/site-packages/sklearn/tree/_classes.py:301: FutureWarning: The min_impurity_split parameter is deprecated. Its default value will change from 1e-7 to 0 in version 0.23, and it will be removed in 0.25. Use the min_impurity_decrease parameter instead.\n",
      "  FutureWarning)\n",
      "/Users/elizavetaersova/miniconda3/lib/python3.6/site-packages/sklearn/tree/_classes.py:301: FutureWarning: The min_impurity_split parameter is deprecated. Its default value will change from 1e-7 to 0 in version 0.23, and it will be removed in 0.25. Use the min_impurity_decrease parameter instead.\n",
      "  FutureWarning)\n",
      "/Users/elizavetaersova/miniconda3/lib/python3.6/site-packages/sklearn/tree/_classes.py:301: FutureWarning: The min_impurity_split parameter is deprecated. Its default value will change from 1e-7 to 0 in version 0.23, and it will be removed in 0.25. Use the min_impurity_decrease parameter instead.\n",
      "  FutureWarning)\n",
      "/Users/elizavetaersova/miniconda3/lib/python3.6/site-packages/sklearn/tree/_classes.py:301: FutureWarning: The min_impurity_split parameter is deprecated. Its default value will change from 1e-7 to 0 in version 0.23, and it will be removed in 0.25. Use the min_impurity_decrease parameter instead.\n",
      "  FutureWarning)\n",
      "/Users/elizavetaersova/miniconda3/lib/python3.6/site-packages/sklearn/tree/_classes.py:301: FutureWarning: The min_impurity_split parameter is deprecated. Its default value will change from 1e-7 to 0 in version 0.23, and it will be removed in 0.25. Use the min_impurity_decrease parameter instead.\n",
      "  FutureWarning)\n",
      "/Users/elizavetaersova/miniconda3/lib/python3.6/site-packages/sklearn/tree/_classes.py:301: FutureWarning: The min_impurity_split parameter is deprecated. Its default value will change from 1e-7 to 0 in version 0.23, and it will be removed in 0.25. Use the min_impurity_decrease parameter instead.\n",
      "  FutureWarning)\n",
      "/Users/elizavetaersova/miniconda3/lib/python3.6/site-packages/sklearn/tree/_classes.py:301: FutureWarning: The min_impurity_split parameter is deprecated. Its default value will change from 1e-7 to 0 in version 0.23, and it will be removed in 0.25. Use the min_impurity_decrease parameter instead.\n",
      "  FutureWarning)\n",
      "/Users/elizavetaersova/miniconda3/lib/python3.6/site-packages/sklearn/tree/_classes.py:301: FutureWarning: The min_impurity_split parameter is deprecated. Its default value will change from 1e-7 to 0 in version 0.23, and it will be removed in 0.25. Use the min_impurity_decrease parameter instead.\n",
      "  FutureWarning)\n",
      "/Users/elizavetaersova/miniconda3/lib/python3.6/site-packages/sklearn/tree/_classes.py:301: FutureWarning: The min_impurity_split parameter is deprecated. Its default value will change from 1e-7 to 0 in version 0.23, and it will be removed in 0.25. Use the min_impurity_decrease parameter instead.\n",
      "  FutureWarning)\n",
      "/Users/elizavetaersova/miniconda3/lib/python3.6/site-packages/sklearn/tree/_classes.py:301: FutureWarning: The min_impurity_split parameter is deprecated. Its default value will change from 1e-7 to 0 in version 0.23, and it will be removed in 0.25. Use the min_impurity_decrease parameter instead.\n",
      "  FutureWarning)\n",
      "/Users/elizavetaersova/miniconda3/lib/python3.6/site-packages/sklearn/tree/_classes.py:301: FutureWarning: The min_impurity_split parameter is deprecated. Its default value will change from 1e-7 to 0 in version 0.23, and it will be removed in 0.25. Use the min_impurity_decrease parameter instead.\n",
      "  FutureWarning)\n",
      "/Users/elizavetaersova/miniconda3/lib/python3.6/site-packages/sklearn/tree/_classes.py:301: FutureWarning: The min_impurity_split parameter is deprecated. Its default value will change from 1e-7 to 0 in version 0.23, and it will be removed in 0.25. Use the min_impurity_decrease parameter instead.\n",
      "  FutureWarning)\n",
      "/Users/elizavetaersova/miniconda3/lib/python3.6/site-packages/sklearn/tree/_classes.py:301: FutureWarning: The min_impurity_split parameter is deprecated. Its default value will change from 1e-7 to 0 in version 0.23, and it will be removed in 0.25. Use the min_impurity_decrease parameter instead.\n",
      "  FutureWarning)\n",
      "/Users/elizavetaersova/miniconda3/lib/python3.6/site-packages/sklearn/tree/_classes.py:301: FutureWarning: The min_impurity_split parameter is deprecated. Its default value will change from 1e-7 to 0 in version 0.23, and it will be removed in 0.25. Use the min_impurity_decrease parameter instead.\n",
      "  FutureWarning)\n",
      "/Users/elizavetaersova/miniconda3/lib/python3.6/site-packages/sklearn/tree/_classes.py:301: FutureWarning: The min_impurity_split parameter is deprecated. Its default value will change from 1e-7 to 0 in version 0.23, and it will be removed in 0.25. Use the min_impurity_decrease parameter instead.\n",
      "  FutureWarning)\n",
      "/Users/elizavetaersova/miniconda3/lib/python3.6/site-packages/sklearn/tree/_classes.py:301: FutureWarning: The min_impurity_split parameter is deprecated. Its default value will change from 1e-7 to 0 in version 0.23, and it will be removed in 0.25. Use the min_impurity_decrease parameter instead.\n",
      "  FutureWarning)\n",
      "/Users/elizavetaersova/miniconda3/lib/python3.6/site-packages/sklearn/tree/_classes.py:301: FutureWarning: The min_impurity_split parameter is deprecated. Its default value will change from 1e-7 to 0 in version 0.23, and it will be removed in 0.25. Use the min_impurity_decrease parameter instead.\n",
      "  FutureWarning)\n",
      "/Users/elizavetaersova/miniconda3/lib/python3.6/site-packages/sklearn/tree/_classes.py:301: FutureWarning: The min_impurity_split parameter is deprecated. Its default value will change from 1e-7 to 0 in version 0.23, and it will be removed in 0.25. Use the min_impurity_decrease parameter instead.\n",
      "  FutureWarning)\n",
      "/Users/elizavetaersova/miniconda3/lib/python3.6/site-packages/sklearn/tree/_classes.py:301: FutureWarning: The min_impurity_split parameter is deprecated. Its default value will change from 1e-7 to 0 in version 0.23, and it will be removed in 0.25. Use the min_impurity_decrease parameter instead.\n",
      "  FutureWarning)\n",
      "/Users/elizavetaersova/miniconda3/lib/python3.6/site-packages/sklearn/tree/_classes.py:301: FutureWarning: The min_impurity_split parameter is deprecated. Its default value will change from 1e-7 to 0 in version 0.23, and it will be removed in 0.25. Use the min_impurity_decrease parameter instead.\n",
      "  FutureWarning)\n",
      "/Users/elizavetaersova/miniconda3/lib/python3.6/site-packages/sklearn/tree/_classes.py:301: FutureWarning: The min_impurity_split parameter is deprecated. Its default value will change from 1e-7 to 0 in version 0.23, and it will be removed in 0.25. Use the min_impurity_decrease parameter instead.\n",
      "  FutureWarning)\n",
      "/Users/elizavetaersova/miniconda3/lib/python3.6/site-packages/sklearn/tree/_classes.py:301: FutureWarning: The min_impurity_split parameter is deprecated. Its default value will change from 1e-7 to 0 in version 0.23, and it will be removed in 0.25. Use the min_impurity_decrease parameter instead.\n",
      "  FutureWarning)\n",
      "/Users/elizavetaersova/miniconda3/lib/python3.6/site-packages/sklearn/tree/_classes.py:301: FutureWarning: The min_impurity_split parameter is deprecated. Its default value will change from 1e-7 to 0 in version 0.23, and it will be removed in 0.25. Use the min_impurity_decrease parameter instead.\n",
      "  FutureWarning)\n",
      "/Users/elizavetaersova/miniconda3/lib/python3.6/site-packages/sklearn/tree/_classes.py:301: FutureWarning: The min_impurity_split parameter is deprecated. Its default value will change from 1e-7 to 0 in version 0.23, and it will be removed in 0.25. Use the min_impurity_decrease parameter instead.\n",
      "  FutureWarning)\n",
      "/Users/elizavetaersova/miniconda3/lib/python3.6/site-packages/sklearn/tree/_classes.py:301: FutureWarning: The min_impurity_split parameter is deprecated. Its default value will change from 1e-7 to 0 in version 0.23, and it will be removed in 0.25. Use the min_impurity_decrease parameter instead.\n",
      "  FutureWarning)\n"
     ]
    },
    {
     "name": "stderr",
     "output_type": "stream",
     "text": [
      "/Users/elizavetaersova/miniconda3/lib/python3.6/site-packages/sklearn/tree/_classes.py:301: FutureWarning: The min_impurity_split parameter is deprecated. Its default value will change from 1e-7 to 0 in version 0.23, and it will be removed in 0.25. Use the min_impurity_decrease parameter instead.\n",
      "  FutureWarning)\n",
      "/Users/elizavetaersova/miniconda3/lib/python3.6/site-packages/sklearn/tree/_classes.py:301: FutureWarning: The min_impurity_split parameter is deprecated. Its default value will change from 1e-7 to 0 in version 0.23, and it will be removed in 0.25. Use the min_impurity_decrease parameter instead.\n",
      "  FutureWarning)\n",
      "/Users/elizavetaersova/miniconda3/lib/python3.6/site-packages/sklearn/tree/_classes.py:301: FutureWarning: The min_impurity_split parameter is deprecated. Its default value will change from 1e-7 to 0 in version 0.23, and it will be removed in 0.25. Use the min_impurity_decrease parameter instead.\n",
      "  FutureWarning)\n",
      "/Users/elizavetaersova/miniconda3/lib/python3.6/site-packages/sklearn/tree/_classes.py:301: FutureWarning: The min_impurity_split parameter is deprecated. Its default value will change from 1e-7 to 0 in version 0.23, and it will be removed in 0.25. Use the min_impurity_decrease parameter instead.\n",
      "  FutureWarning)\n",
      "/Users/elizavetaersova/miniconda3/lib/python3.6/site-packages/sklearn/tree/_classes.py:301: FutureWarning: The min_impurity_split parameter is deprecated. Its default value will change from 1e-7 to 0 in version 0.23, and it will be removed in 0.25. Use the min_impurity_decrease parameter instead.\n",
      "  FutureWarning)\n",
      "/Users/elizavetaersova/miniconda3/lib/python3.6/site-packages/sklearn/tree/_classes.py:301: FutureWarning: The min_impurity_split parameter is deprecated. Its default value will change from 1e-7 to 0 in version 0.23, and it will be removed in 0.25. Use the min_impurity_decrease parameter instead.\n",
      "  FutureWarning)\n",
      "/Users/elizavetaersova/miniconda3/lib/python3.6/site-packages/sklearn/tree/_classes.py:301: FutureWarning: The min_impurity_split parameter is deprecated. Its default value will change from 1e-7 to 0 in version 0.23, and it will be removed in 0.25. Use the min_impurity_decrease parameter instead.\n",
      "  FutureWarning)\n",
      "/Users/elizavetaersova/miniconda3/lib/python3.6/site-packages/sklearn/tree/_classes.py:301: FutureWarning: The min_impurity_split parameter is deprecated. Its default value will change from 1e-7 to 0 in version 0.23, and it will be removed in 0.25. Use the min_impurity_decrease parameter instead.\n",
      "  FutureWarning)\n",
      "/Users/elizavetaersova/miniconda3/lib/python3.6/site-packages/sklearn/tree/_classes.py:301: FutureWarning: The min_impurity_split parameter is deprecated. Its default value will change from 1e-7 to 0 in version 0.23, and it will be removed in 0.25. Use the min_impurity_decrease parameter instead.\n",
      "  FutureWarning)\n",
      "/Users/elizavetaersova/miniconda3/lib/python3.6/site-packages/sklearn/tree/_classes.py:301: FutureWarning: The min_impurity_split parameter is deprecated. Its default value will change from 1e-7 to 0 in version 0.23, and it will be removed in 0.25. Use the min_impurity_decrease parameter instead.\n",
      "  FutureWarning)\n",
      "/Users/elizavetaersova/miniconda3/lib/python3.6/site-packages/sklearn/tree/_classes.py:301: FutureWarning: The min_impurity_split parameter is deprecated. Its default value will change from 1e-7 to 0 in version 0.23, and it will be removed in 0.25. Use the min_impurity_decrease parameter instead.\n",
      "  FutureWarning)\n",
      "/Users/elizavetaersova/miniconda3/lib/python3.6/site-packages/sklearn/tree/_classes.py:301: FutureWarning: The min_impurity_split parameter is deprecated. Its default value will change from 1e-7 to 0 in version 0.23, and it will be removed in 0.25. Use the min_impurity_decrease parameter instead.\n",
      "  FutureWarning)\n",
      "/Users/elizavetaersova/miniconda3/lib/python3.6/site-packages/sklearn/tree/_classes.py:301: FutureWarning: The min_impurity_split parameter is deprecated. Its default value will change from 1e-7 to 0 in version 0.23, and it will be removed in 0.25. Use the min_impurity_decrease parameter instead.\n",
      "  FutureWarning)\n",
      "/Users/elizavetaersova/miniconda3/lib/python3.6/site-packages/sklearn/tree/_classes.py:301: FutureWarning: The min_impurity_split parameter is deprecated. Its default value will change from 1e-7 to 0 in version 0.23, and it will be removed in 0.25. Use the min_impurity_decrease parameter instead.\n",
      "  FutureWarning)\n",
      "/Users/elizavetaersova/miniconda3/lib/python3.6/site-packages/sklearn/tree/_classes.py:301: FutureWarning: The min_impurity_split parameter is deprecated. Its default value will change from 1e-7 to 0 in version 0.23, and it will be removed in 0.25. Use the min_impurity_decrease parameter instead.\n",
      "  FutureWarning)\n",
      "/Users/elizavetaersova/miniconda3/lib/python3.6/site-packages/sklearn/tree/_classes.py:301: FutureWarning: The min_impurity_split parameter is deprecated. Its default value will change from 1e-7 to 0 in version 0.23, and it will be removed in 0.25. Use the min_impurity_decrease parameter instead.\n",
      "  FutureWarning)\n",
      "/Users/elizavetaersova/miniconda3/lib/python3.6/site-packages/sklearn/tree/_classes.py:301: FutureWarning: The min_impurity_split parameter is deprecated. Its default value will change from 1e-7 to 0 in version 0.23, and it will be removed in 0.25. Use the min_impurity_decrease parameter instead.\n",
      "  FutureWarning)\n",
      "/Users/elizavetaersova/miniconda3/lib/python3.6/site-packages/sklearn/tree/_classes.py:301: FutureWarning: The min_impurity_split parameter is deprecated. Its default value will change from 1e-7 to 0 in version 0.23, and it will be removed in 0.25. Use the min_impurity_decrease parameter instead.\n",
      "  FutureWarning)\n",
      "/Users/elizavetaersova/miniconda3/lib/python3.6/site-packages/sklearn/tree/_classes.py:301: FutureWarning: The min_impurity_split parameter is deprecated. Its default value will change from 1e-7 to 0 in version 0.23, and it will be removed in 0.25. Use the min_impurity_decrease parameter instead.\n",
      "  FutureWarning)\n",
      "/Users/elizavetaersova/miniconda3/lib/python3.6/site-packages/sklearn/tree/_classes.py:301: FutureWarning: The min_impurity_split parameter is deprecated. Its default value will change from 1e-7 to 0 in version 0.23, and it will be removed in 0.25. Use the min_impurity_decrease parameter instead.\n",
      "  FutureWarning)\n",
      "/Users/elizavetaersova/miniconda3/lib/python3.6/site-packages/sklearn/tree/_classes.py:301: FutureWarning: The min_impurity_split parameter is deprecated. Its default value will change from 1e-7 to 0 in version 0.23, and it will be removed in 0.25. Use the min_impurity_decrease parameter instead.\n",
      "  FutureWarning)\n",
      "/Users/elizavetaersova/miniconda3/lib/python3.6/site-packages/sklearn/tree/_classes.py:301: FutureWarning: The min_impurity_split parameter is deprecated. Its default value will change from 1e-7 to 0 in version 0.23, and it will be removed in 0.25. Use the min_impurity_decrease parameter instead.\n",
      "  FutureWarning)\n",
      "/Users/elizavetaersova/miniconda3/lib/python3.6/site-packages/sklearn/tree/_classes.py:301: FutureWarning: The min_impurity_split parameter is deprecated. Its default value will change from 1e-7 to 0 in version 0.23, and it will be removed in 0.25. Use the min_impurity_decrease parameter instead.\n",
      "  FutureWarning)\n",
      "/Users/elizavetaersova/miniconda3/lib/python3.6/site-packages/sklearn/tree/_classes.py:301: FutureWarning: The min_impurity_split parameter is deprecated. Its default value will change from 1e-7 to 0 in version 0.23, and it will be removed in 0.25. Use the min_impurity_decrease parameter instead.\n",
      "  FutureWarning)\n",
      "/Users/elizavetaersova/miniconda3/lib/python3.6/site-packages/sklearn/tree/_classes.py:301: FutureWarning: The min_impurity_split parameter is deprecated. Its default value will change from 1e-7 to 0 in version 0.23, and it will be removed in 0.25. Use the min_impurity_decrease parameter instead.\n",
      "  FutureWarning)\n",
      "/Users/elizavetaersova/miniconda3/lib/python3.6/site-packages/sklearn/tree/_classes.py:301: FutureWarning: The min_impurity_split parameter is deprecated. Its default value will change from 1e-7 to 0 in version 0.23, and it will be removed in 0.25. Use the min_impurity_decrease parameter instead.\n",
      "  FutureWarning)\n",
      "/Users/elizavetaersova/miniconda3/lib/python3.6/site-packages/sklearn/tree/_classes.py:301: FutureWarning: The min_impurity_split parameter is deprecated. Its default value will change from 1e-7 to 0 in version 0.23, and it will be removed in 0.25. Use the min_impurity_decrease parameter instead.\n",
      "  FutureWarning)\n"
     ]
    },
    {
     "name": "stderr",
     "output_type": "stream",
     "text": [
      "/Users/elizavetaersova/miniconda3/lib/python3.6/site-packages/sklearn/tree/_classes.py:301: FutureWarning: The min_impurity_split parameter is deprecated. Its default value will change from 1e-7 to 0 in version 0.23, and it will be removed in 0.25. Use the min_impurity_decrease parameter instead.\n",
      "  FutureWarning)\n",
      "/Users/elizavetaersova/miniconda3/lib/python3.6/site-packages/sklearn/tree/_classes.py:301: FutureWarning: The min_impurity_split parameter is deprecated. Its default value will change from 1e-7 to 0 in version 0.23, and it will be removed in 0.25. Use the min_impurity_decrease parameter instead.\n",
      "  FutureWarning)\n",
      "/Users/elizavetaersova/miniconda3/lib/python3.6/site-packages/sklearn/tree/_classes.py:301: FutureWarning: The min_impurity_split parameter is deprecated. Its default value will change from 1e-7 to 0 in version 0.23, and it will be removed in 0.25. Use the min_impurity_decrease parameter instead.\n",
      "  FutureWarning)\n",
      "/Users/elizavetaersova/miniconda3/lib/python3.6/site-packages/sklearn/tree/_classes.py:301: FutureWarning: The min_impurity_split parameter is deprecated. Its default value will change from 1e-7 to 0 in version 0.23, and it will be removed in 0.25. Use the min_impurity_decrease parameter instead.\n",
      "  FutureWarning)\n",
      "/Users/elizavetaersova/miniconda3/lib/python3.6/site-packages/sklearn/tree/_classes.py:301: FutureWarning: The min_impurity_split parameter is deprecated. Its default value will change from 1e-7 to 0 in version 0.23, and it will be removed in 0.25. Use the min_impurity_decrease parameter instead.\n",
      "  FutureWarning)\n",
      "/Users/elizavetaersova/miniconda3/lib/python3.6/site-packages/sklearn/tree/_classes.py:301: FutureWarning: The min_impurity_split parameter is deprecated. Its default value will change from 1e-7 to 0 in version 0.23, and it will be removed in 0.25. Use the min_impurity_decrease parameter instead.\n",
      "  FutureWarning)\n",
      "/Users/elizavetaersova/miniconda3/lib/python3.6/site-packages/sklearn/tree/_classes.py:301: FutureWarning: The min_impurity_split parameter is deprecated. Its default value will change from 1e-7 to 0 in version 0.23, and it will be removed in 0.25. Use the min_impurity_decrease parameter instead.\n",
      "  FutureWarning)\n",
      "/Users/elizavetaersova/miniconda3/lib/python3.6/site-packages/sklearn/tree/_classes.py:301: FutureWarning: The min_impurity_split parameter is deprecated. Its default value will change from 1e-7 to 0 in version 0.23, and it will be removed in 0.25. Use the min_impurity_decrease parameter instead.\n",
      "  FutureWarning)\n",
      "/Users/elizavetaersova/miniconda3/lib/python3.6/site-packages/sklearn/tree/_classes.py:301: FutureWarning: The min_impurity_split parameter is deprecated. Its default value will change from 1e-7 to 0 in version 0.23, and it will be removed in 0.25. Use the min_impurity_decrease parameter instead.\n",
      "  FutureWarning)\n",
      "/Users/elizavetaersova/miniconda3/lib/python3.6/site-packages/sklearn/tree/_classes.py:301: FutureWarning: The min_impurity_split parameter is deprecated. Its default value will change from 1e-7 to 0 in version 0.23, and it will be removed in 0.25. Use the min_impurity_decrease parameter instead.\n",
      "  FutureWarning)\n",
      "/Users/elizavetaersova/miniconda3/lib/python3.6/site-packages/sklearn/tree/_classes.py:301: FutureWarning: The min_impurity_split parameter is deprecated. Its default value will change from 1e-7 to 0 in version 0.23, and it will be removed in 0.25. Use the min_impurity_decrease parameter instead.\n",
      "  FutureWarning)\n",
      "/Users/elizavetaersova/miniconda3/lib/python3.6/site-packages/sklearn/tree/_classes.py:301: FutureWarning: The min_impurity_split parameter is deprecated. Its default value will change from 1e-7 to 0 in version 0.23, and it will be removed in 0.25. Use the min_impurity_decrease parameter instead.\n",
      "  FutureWarning)\n",
      "/Users/elizavetaersova/miniconda3/lib/python3.6/site-packages/sklearn/tree/_classes.py:301: FutureWarning: The min_impurity_split parameter is deprecated. Its default value will change from 1e-7 to 0 in version 0.23, and it will be removed in 0.25. Use the min_impurity_decrease parameter instead.\n",
      "  FutureWarning)\n",
      "/Users/elizavetaersova/miniconda3/lib/python3.6/site-packages/sklearn/tree/_classes.py:301: FutureWarning: The min_impurity_split parameter is deprecated. Its default value will change from 1e-7 to 0 in version 0.23, and it will be removed in 0.25. Use the min_impurity_decrease parameter instead.\n",
      "  FutureWarning)\n",
      "/Users/elizavetaersova/miniconda3/lib/python3.6/site-packages/sklearn/tree/_classes.py:301: FutureWarning: The min_impurity_split parameter is deprecated. Its default value will change from 1e-7 to 0 in version 0.23, and it will be removed in 0.25. Use the min_impurity_decrease parameter instead.\n",
      "  FutureWarning)\n",
      "/Users/elizavetaersova/miniconda3/lib/python3.6/site-packages/sklearn/tree/_classes.py:301: FutureWarning: The min_impurity_split parameter is deprecated. Its default value will change from 1e-7 to 0 in version 0.23, and it will be removed in 0.25. Use the min_impurity_decrease parameter instead.\n",
      "  FutureWarning)\n",
      "/Users/elizavetaersova/miniconda3/lib/python3.6/site-packages/sklearn/tree/_classes.py:301: FutureWarning: The min_impurity_split parameter is deprecated. Its default value will change from 1e-7 to 0 in version 0.23, and it will be removed in 0.25. Use the min_impurity_decrease parameter instead.\n",
      "  FutureWarning)\n",
      "/Users/elizavetaersova/miniconda3/lib/python3.6/site-packages/sklearn/tree/_classes.py:301: FutureWarning: The min_impurity_split parameter is deprecated. Its default value will change from 1e-7 to 0 in version 0.23, and it will be removed in 0.25. Use the min_impurity_decrease parameter instead.\n",
      "  FutureWarning)\n",
      "/Users/elizavetaersova/miniconda3/lib/python3.6/site-packages/sklearn/tree/_classes.py:301: FutureWarning: The min_impurity_split parameter is deprecated. Its default value will change from 1e-7 to 0 in version 0.23, and it will be removed in 0.25. Use the min_impurity_decrease parameter instead.\n",
      "  FutureWarning)\n",
      "/Users/elizavetaersova/miniconda3/lib/python3.6/site-packages/sklearn/tree/_classes.py:301: FutureWarning: The min_impurity_split parameter is deprecated. Its default value will change from 1e-7 to 0 in version 0.23, and it will be removed in 0.25. Use the min_impurity_decrease parameter instead.\n",
      "  FutureWarning)\n",
      "/Users/elizavetaersova/miniconda3/lib/python3.6/site-packages/sklearn/tree/_classes.py:301: FutureWarning: The min_impurity_split parameter is deprecated. Its default value will change from 1e-7 to 0 in version 0.23, and it will be removed in 0.25. Use the min_impurity_decrease parameter instead.\n",
      "  FutureWarning)\n",
      "/Users/elizavetaersova/miniconda3/lib/python3.6/site-packages/sklearn/tree/_classes.py:301: FutureWarning: The min_impurity_split parameter is deprecated. Its default value will change from 1e-7 to 0 in version 0.23, and it will be removed in 0.25. Use the min_impurity_decrease parameter instead.\n",
      "  FutureWarning)\n",
      "/Users/elizavetaersova/miniconda3/lib/python3.6/site-packages/sklearn/tree/_classes.py:301: FutureWarning: The min_impurity_split parameter is deprecated. Its default value will change from 1e-7 to 0 in version 0.23, and it will be removed in 0.25. Use the min_impurity_decrease parameter instead.\n",
      "  FutureWarning)\n",
      "/Users/elizavetaersova/miniconda3/lib/python3.6/site-packages/sklearn/tree/_classes.py:301: FutureWarning: The min_impurity_split parameter is deprecated. Its default value will change from 1e-7 to 0 in version 0.23, and it will be removed in 0.25. Use the min_impurity_decrease parameter instead.\n",
      "  FutureWarning)\n",
      "/Users/elizavetaersova/miniconda3/lib/python3.6/site-packages/sklearn/tree/_classes.py:301: FutureWarning: The min_impurity_split parameter is deprecated. Its default value will change from 1e-7 to 0 in version 0.23, and it will be removed in 0.25. Use the min_impurity_decrease parameter instead.\n",
      "  FutureWarning)\n",
      "/Users/elizavetaersova/miniconda3/lib/python3.6/site-packages/sklearn/tree/_classes.py:301: FutureWarning: The min_impurity_split parameter is deprecated. Its default value will change from 1e-7 to 0 in version 0.23, and it will be removed in 0.25. Use the min_impurity_decrease parameter instead.\n",
      "  FutureWarning)\n",
      "/Users/elizavetaersova/miniconda3/lib/python3.6/site-packages/sklearn/tree/_classes.py:301: FutureWarning: The min_impurity_split parameter is deprecated. Its default value will change from 1e-7 to 0 in version 0.23, and it will be removed in 0.25. Use the min_impurity_decrease parameter instead.\n",
      "  FutureWarning)\n"
     ]
    },
    {
     "name": "stderr",
     "output_type": "stream",
     "text": [
      "/Users/elizavetaersova/miniconda3/lib/python3.6/site-packages/sklearn/tree/_classes.py:301: FutureWarning: The min_impurity_split parameter is deprecated. Its default value will change from 1e-7 to 0 in version 0.23, and it will be removed in 0.25. Use the min_impurity_decrease parameter instead.\n",
      "  FutureWarning)\n",
      "/Users/elizavetaersova/miniconda3/lib/python3.6/site-packages/sklearn/tree/_classes.py:301: FutureWarning: The min_impurity_split parameter is deprecated. Its default value will change from 1e-7 to 0 in version 0.23, and it will be removed in 0.25. Use the min_impurity_decrease parameter instead.\n",
      "  FutureWarning)\n",
      "/Users/elizavetaersova/miniconda3/lib/python3.6/site-packages/sklearn/tree/_classes.py:301: FutureWarning: The min_impurity_split parameter is deprecated. Its default value will change from 1e-7 to 0 in version 0.23, and it will be removed in 0.25. Use the min_impurity_decrease parameter instead.\n",
      "  FutureWarning)\n",
      "/Users/elizavetaersova/miniconda3/lib/python3.6/site-packages/sklearn/tree/_classes.py:301: FutureWarning: The min_impurity_split parameter is deprecated. Its default value will change from 1e-7 to 0 in version 0.23, and it will be removed in 0.25. Use the min_impurity_decrease parameter instead.\n",
      "  FutureWarning)\n",
      "/Users/elizavetaersova/miniconda3/lib/python3.6/site-packages/sklearn/tree/_classes.py:301: FutureWarning: The min_impurity_split parameter is deprecated. Its default value will change from 1e-7 to 0 in version 0.23, and it will be removed in 0.25. Use the min_impurity_decrease parameter instead.\n",
      "  FutureWarning)\n",
      "/Users/elizavetaersova/miniconda3/lib/python3.6/site-packages/sklearn/tree/_classes.py:301: FutureWarning: The min_impurity_split parameter is deprecated. Its default value will change from 1e-7 to 0 in version 0.23, and it will be removed in 0.25. Use the min_impurity_decrease parameter instead.\n",
      "  FutureWarning)\n",
      "/Users/elizavetaersova/miniconda3/lib/python3.6/site-packages/sklearn/tree/_classes.py:301: FutureWarning: The min_impurity_split parameter is deprecated. Its default value will change from 1e-7 to 0 in version 0.23, and it will be removed in 0.25. Use the min_impurity_decrease parameter instead.\n",
      "  FutureWarning)\n",
      "/Users/elizavetaersova/miniconda3/lib/python3.6/site-packages/sklearn/tree/_classes.py:301: FutureWarning: The min_impurity_split parameter is deprecated. Its default value will change from 1e-7 to 0 in version 0.23, and it will be removed in 0.25. Use the min_impurity_decrease parameter instead.\n",
      "  FutureWarning)\n",
      "/Users/elizavetaersova/miniconda3/lib/python3.6/site-packages/sklearn/tree/_classes.py:301: FutureWarning: The min_impurity_split parameter is deprecated. Its default value will change from 1e-7 to 0 in version 0.23, and it will be removed in 0.25. Use the min_impurity_decrease parameter instead.\n",
      "  FutureWarning)\n",
      "/Users/elizavetaersova/miniconda3/lib/python3.6/site-packages/sklearn/tree/_classes.py:301: FutureWarning: The min_impurity_split parameter is deprecated. Its default value will change from 1e-7 to 0 in version 0.23, and it will be removed in 0.25. Use the min_impurity_decrease parameter instead.\n",
      "  FutureWarning)\n",
      "/Users/elizavetaersova/miniconda3/lib/python3.6/site-packages/sklearn/tree/_classes.py:301: FutureWarning: The min_impurity_split parameter is deprecated. Its default value will change from 1e-7 to 0 in version 0.23, and it will be removed in 0.25. Use the min_impurity_decrease parameter instead.\n",
      "  FutureWarning)\n",
      "/Users/elizavetaersova/miniconda3/lib/python3.6/site-packages/sklearn/tree/_classes.py:301: FutureWarning: The min_impurity_split parameter is deprecated. Its default value will change from 1e-7 to 0 in version 0.23, and it will be removed in 0.25. Use the min_impurity_decrease parameter instead.\n",
      "  FutureWarning)\n",
      "/Users/elizavetaersova/miniconda3/lib/python3.6/site-packages/sklearn/tree/_classes.py:301: FutureWarning: The min_impurity_split parameter is deprecated. Its default value will change from 1e-7 to 0 in version 0.23, and it will be removed in 0.25. Use the min_impurity_decrease parameter instead.\n",
      "  FutureWarning)\n",
      "/Users/elizavetaersova/miniconda3/lib/python3.6/site-packages/sklearn/tree/_classes.py:301: FutureWarning: The min_impurity_split parameter is deprecated. Its default value will change from 1e-7 to 0 in version 0.23, and it will be removed in 0.25. Use the min_impurity_decrease parameter instead.\n",
      "  FutureWarning)\n",
      "/Users/elizavetaersova/miniconda3/lib/python3.6/site-packages/sklearn/tree/_classes.py:301: FutureWarning: The min_impurity_split parameter is deprecated. Its default value will change from 1e-7 to 0 in version 0.23, and it will be removed in 0.25. Use the min_impurity_decrease parameter instead.\n",
      "  FutureWarning)\n",
      "/Users/elizavetaersova/miniconda3/lib/python3.6/site-packages/sklearn/tree/_classes.py:301: FutureWarning: The min_impurity_split parameter is deprecated. Its default value will change from 1e-7 to 0 in version 0.23, and it will be removed in 0.25. Use the min_impurity_decrease parameter instead.\n",
      "  FutureWarning)\n",
      "/Users/elizavetaersova/miniconda3/lib/python3.6/site-packages/sklearn/tree/_classes.py:301: FutureWarning: The min_impurity_split parameter is deprecated. Its default value will change from 1e-7 to 0 in version 0.23, and it will be removed in 0.25. Use the min_impurity_decrease parameter instead.\n",
      "  FutureWarning)\n",
      "/Users/elizavetaersova/miniconda3/lib/python3.6/site-packages/sklearn/tree/_classes.py:301: FutureWarning: The min_impurity_split parameter is deprecated. Its default value will change from 1e-7 to 0 in version 0.23, and it will be removed in 0.25. Use the min_impurity_decrease parameter instead.\n",
      "  FutureWarning)\n",
      "/Users/elizavetaersova/miniconda3/lib/python3.6/site-packages/sklearn/tree/_classes.py:301: FutureWarning: The min_impurity_split parameter is deprecated. Its default value will change from 1e-7 to 0 in version 0.23, and it will be removed in 0.25. Use the min_impurity_decrease parameter instead.\n",
      "  FutureWarning)\n"
     ]
    },
    {
     "ename": "ValueError",
     "evalue": "Classification metrics can't handle a mix of continuous and binary targets",
     "output_type": "error",
     "traceback": [
      "\u001b[0;31m---------------------------------------------------------------------------\u001b[0m",
      "\u001b[0;31mValueError\u001b[0m                                Traceback (most recent call last)",
      "\u001b[0;32m<ipython-input-185-cb1155603dfd>\u001b[0m in \u001b[0;36m<module>\u001b[0;34m()\u001b[0m\n\u001b[1;32m      8\u001b[0m \u001b[0mmodel\u001b[0m\u001b[0;34m.\u001b[0m\u001b[0mfit\u001b[0m\u001b[0;34m(\u001b[0m\u001b[0mX_train\u001b[0m\u001b[0;34m,\u001b[0m \u001b[0my_train\u001b[0m\u001b[0;34m)\u001b[0m\u001b[0;34m\u001b[0m\u001b[0m\n\u001b[1;32m      9\u001b[0m \u001b[0my_pred\u001b[0m \u001b[0;34m=\u001b[0m \u001b[0mmodel\u001b[0m\u001b[0;34m.\u001b[0m\u001b[0mpredict\u001b[0m\u001b[0;34m(\u001b[0m\u001b[0mX_test\u001b[0m\u001b[0;34m)\u001b[0m\u001b[0;34m\u001b[0m\u001b[0m\n\u001b[0;32m---> 10\u001b[0;31m \u001b[0maccuracy\u001b[0m \u001b[0;34m=\u001b[0m \u001b[0maccuracy_score\u001b[0m\u001b[0;34m(\u001b[0m\u001b[0my_pred\u001b[0m\u001b[0;34m,\u001b[0m \u001b[0my_test\u001b[0m\u001b[0;34m)\u001b[0m\u001b[0;34m\u001b[0m\u001b[0m\n\u001b[0m",
      "\u001b[0;32m~/miniconda3/lib/python3.6/site-packages/sklearn/metrics/_classification.py\u001b[0m in \u001b[0;36maccuracy_score\u001b[0;34m(y_true, y_pred, normalize, sample_weight)\u001b[0m\n\u001b[1;32m    183\u001b[0m \u001b[0;34m\u001b[0m\u001b[0m\n\u001b[1;32m    184\u001b[0m     \u001b[0;31m# Compute accuracy for each possible representation\u001b[0m\u001b[0;34m\u001b[0m\u001b[0;34m\u001b[0m\u001b[0m\n\u001b[0;32m--> 185\u001b[0;31m     \u001b[0my_type\u001b[0m\u001b[0;34m,\u001b[0m \u001b[0my_true\u001b[0m\u001b[0;34m,\u001b[0m \u001b[0my_pred\u001b[0m \u001b[0;34m=\u001b[0m \u001b[0m_check_targets\u001b[0m\u001b[0;34m(\u001b[0m\u001b[0my_true\u001b[0m\u001b[0;34m,\u001b[0m \u001b[0my_pred\u001b[0m\u001b[0;34m)\u001b[0m\u001b[0;34m\u001b[0m\u001b[0m\n\u001b[0m\u001b[1;32m    186\u001b[0m     \u001b[0mcheck_consistent_length\u001b[0m\u001b[0;34m(\u001b[0m\u001b[0my_true\u001b[0m\u001b[0;34m,\u001b[0m \u001b[0my_pred\u001b[0m\u001b[0;34m,\u001b[0m \u001b[0msample_weight\u001b[0m\u001b[0;34m)\u001b[0m\u001b[0;34m\u001b[0m\u001b[0m\n\u001b[1;32m    187\u001b[0m     \u001b[0;32mif\u001b[0m \u001b[0my_type\u001b[0m\u001b[0;34m.\u001b[0m\u001b[0mstartswith\u001b[0m\u001b[0;34m(\u001b[0m\u001b[0;34m'multilabel'\u001b[0m\u001b[0;34m)\u001b[0m\u001b[0;34m:\u001b[0m\u001b[0;34m\u001b[0m\u001b[0m\n",
      "\u001b[0;32m~/miniconda3/lib/python3.6/site-packages/sklearn/metrics/_classification.py\u001b[0m in \u001b[0;36m_check_targets\u001b[0;34m(y_true, y_pred)\u001b[0m\n\u001b[1;32m     88\u001b[0m     \u001b[0;32mif\u001b[0m \u001b[0mlen\u001b[0m\u001b[0;34m(\u001b[0m\u001b[0my_type\u001b[0m\u001b[0;34m)\u001b[0m \u001b[0;34m>\u001b[0m \u001b[0;36m1\u001b[0m\u001b[0;34m:\u001b[0m\u001b[0;34m\u001b[0m\u001b[0m\n\u001b[1;32m     89\u001b[0m         raise ValueError(\"Classification metrics can't handle a mix of {0} \"\n\u001b[0;32m---> 90\u001b[0;31m                          \"and {1} targets\".format(type_true, type_pred))\n\u001b[0m\u001b[1;32m     91\u001b[0m \u001b[0;34m\u001b[0m\u001b[0m\n\u001b[1;32m     92\u001b[0m     \u001b[0;31m# We can't have more than one value on y_type => The set is no more needed\u001b[0m\u001b[0;34m\u001b[0m\u001b[0;34m\u001b[0m\u001b[0m\n",
      "\u001b[0;31mValueError\u001b[0m: Classification metrics can't handle a mix of continuous and binary targets"
     ]
    }
   ],
   "source": [
    "%%time\n",
    "model = GradientBoostingRegressor(random_state=SEED,\n",
    "                                           n_estimators=100, \n",
    "                                           max_depth=5,\n",
    "                                           learning_rate=0.1,\n",
    "                                           min_samples_leaf=1, \n",
    "                                           criterion = 'mse',\n",
    "                                           min_impurity_split=0)\n",
    "model.fit(X_train, y_train)\n",
    "y_pred = model.predict(X_test)\n",
    "accuracy = accuracy_score(y_pred, y_test)"
   ]
  },
  {
   "cell_type": "code",
   "execution_count": 153,
   "metadata": {},
   "outputs": [
    {
     "name": "stdout",
     "output_type": "stream",
     "text": [
      "0.752\n"
     ]
    }
   ],
   "source": [
    "print(accuracy) #первый способ преобразовать"
   ]
  },
  {
   "cell_type": "code",
   "execution_count": 163,
   "metadata": {},
   "outputs": [
    {
     "name": "stdout",
     "output_type": "stream",
     "text": [
      "0.752\n"
     ]
    }
   ],
   "source": [
    "print(accuracy) # второй"
   ]
  },
  {
   "cell_type": "code",
   "execution_count": 172,
   "metadata": {},
   "outputs": [
    {
     "name": "stdout",
     "output_type": "stream",
     "text": [
      "0.752\n"
     ]
    }
   ],
   "source": [
    "print(accuracy) # третий"
   ]
  },
  {
   "cell_type": "markdown",
   "metadata": {},
   "source": [
    "## а что если спейси дать модель получше?"
   ]
  },
  {
   "cell_type": "code",
   "execution_count": 186,
   "metadata": {},
   "outputs": [
    {
     "name": "stdout",
     "output_type": "stream",
     "text": [
      "0.752\n"
     ]
    }
   ],
   "source": [
    "print(accuracy) # с более большой моделью"
   ]
  },
  {
   "cell_type": "code",
   "execution_count": 165,
   "metadata": {},
   "outputs": [],
   "source": []
  }
 ],
 "metadata": {
  "colab": {
   "name": "hw8.ipynb",
   "provenance": []
  },
  "kernelspec": {
   "display_name": "Python 3",
   "language": "python",
   "name": "python3"
  },
  "language_info": {
   "codemirror_mode": {
    "name": "ipython",
    "version": 3
   },
   "file_extension": ".py",
   "mimetype": "text/x-python",
   "name": "python",
   "nbconvert_exporter": "python",
   "pygments_lexer": "ipython3",
   "version": "3.6.3"
  }
 },
 "nbformat": 4,
 "nbformat_minor": 1
}
